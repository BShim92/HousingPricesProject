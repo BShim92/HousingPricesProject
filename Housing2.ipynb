{
 "cells": [
  {
   "cell_type": "code",
   "execution_count": 1,
   "metadata": {},
   "outputs": [],
   "source": [
    "import pandas as pd\n",
    "import numpy as np\n",
    "import os"
   ]
  },
  {
   "cell_type": "code",
   "execution_count": 9,
   "metadata": {},
   "outputs": [],
   "source": [
    "train = pd.read_csv('train.csv')\n",
    "# train = pd.read_csv('test.csv')"
   ]
  },
  {
   "cell_type": "code",
   "execution_count": 10,
   "metadata": {},
   "outputs": [],
   "source": [
    "# Convert \\\"null\\\" values to None\n",
    "train[['LotFrontage','MasVnrArea','GarageYrBlt']]=train[['LotFrontage','MasVnrArea','GarageYrBlt']].replace(np.nan,0)\n",
    "train[['Alley','BsmtQual','BsmtCond','BsmtExposure','BsmtFinType1','BsmtFinType2','FireplaceQu','GarageType','GarageFinish','GarageQual','GarageCond','PoolQC','Fence','MiscFeature','MasVnrType','Electrical']]=train[['Alley','BsmtQual','BsmtCond','BsmtExposure','BsmtFinType1','BsmtFinType2','FireplaceQu','GarageType','GarageFinish','GarageQual','GarageCond','PoolQC','Fence','MiscFeature','MasVnrType','Electrical']].replace(np.nan,'No Value')"
   ]
  },
  {
   "cell_type": "code",
   "execution_count": 11,
   "metadata": {},
   "outputs": [
    {
     "data": {
      "text/plain": [
       "array(['Gd', 'TA', 'Ex', 'No Value', 'Fa'], dtype=object)"
      ]
     },
     "execution_count": 11,
     "metadata": {},
     "output_type": "execute_result"
    }
   ],
   "source": [
    "train['BsmtQual'].unique()"
   ]
  },
  {
   "cell_type": "code",
   "execution_count": 12,
   "metadata": {},
   "outputs": [
    {
     "data": {
      "text/plain": [
       "Series([], dtype: float64)"
      ]
     },
     "execution_count": 12,
     "metadata": {},
     "output_type": "execute_result"
    }
   ],
   "source": [
    "null_percentages = 100*train.isna().sum() / train.shape[0]\n",
    "null_percentages[null_percentages.values > 0]"
   ]
  },
  {
   "cell_type": "code",
   "execution_count": 13,
   "metadata": {},
   "outputs": [
    {
     "name": "stdout",
     "output_type": "stream",
     "text": [
      "Id <ufunc 'isnan'>\n",
      "MSSubClass <ufunc 'isnan'>\n",
      "MSZoning <ufunc 'isnan'>\n",
      "LotFrontage <ufunc 'isnan'>\n",
      "LotArea <ufunc 'isnan'>\n",
      "Street <ufunc 'isnan'>\n",
      "Alley <ufunc 'isnan'>\n",
      "LotShape <ufunc 'isnan'>\n",
      "LandContour <ufunc 'isnan'>\n",
      "Utilities <ufunc 'isnan'>\n",
      "LotConfig <ufunc 'isnan'>\n",
      "LandSlope <ufunc 'isnan'>\n",
      "Neighborhood <ufunc 'isnan'>\n",
      "Condition1 <ufunc 'isnan'>\n",
      "Condition2 <ufunc 'isnan'>\n",
      "BldgType <ufunc 'isnan'>\n",
      "HouseStyle <ufunc 'isnan'>\n",
      "OverallQual <ufunc 'isnan'>\n",
      "OverallCond <ufunc 'isnan'>\n",
      "YearBuilt <ufunc 'isnan'>\n",
      "YearRemodAdd <ufunc 'isnan'>\n",
      "RoofStyle <ufunc 'isnan'>\n",
      "RoofMatl <ufunc 'isnan'>\n",
      "Exterior1st <ufunc 'isnan'>\n",
      "Exterior2nd <ufunc 'isnan'>\n",
      "MasVnrType <ufunc 'isnan'>\n",
      "MasVnrArea <ufunc 'isnan'>\n",
      "ExterQual <ufunc 'isnan'>\n",
      "ExterCond <ufunc 'isnan'>\n",
      "Foundation <ufunc 'isnan'>\n",
      "BsmtQual <ufunc 'isnan'>\n",
      "BsmtCond <ufunc 'isnan'>\n",
      "BsmtExposure <ufunc 'isnan'>\n",
      "BsmtFinType1 <ufunc 'isnan'>\n",
      "BsmtFinSF1 <ufunc 'isnan'>\n",
      "BsmtFinType2 <ufunc 'isnan'>\n",
      "BsmtFinSF2 <ufunc 'isnan'>\n",
      "BsmtUnfSF <ufunc 'isnan'>\n",
      "TotalBsmtSF <ufunc 'isnan'>\n",
      "Heating <ufunc 'isnan'>\n",
      "HeatingQC <ufunc 'isnan'>\n",
      "CentralAir <ufunc 'isnan'>\n",
      "Electrical <ufunc 'isnan'>\n",
      "1stFlrSF <ufunc 'isnan'>\n",
      "2ndFlrSF <ufunc 'isnan'>\n",
      "LowQualFinSF <ufunc 'isnan'>\n",
      "GrLivArea <ufunc 'isnan'>\n",
      "BsmtFullBath <ufunc 'isnan'>\n",
      "BsmtHalfBath <ufunc 'isnan'>\n",
      "FullBath <ufunc 'isnan'>\n",
      "HalfBath <ufunc 'isnan'>\n",
      "BedroomAbvGr <ufunc 'isnan'>\n",
      "KitchenAbvGr <ufunc 'isnan'>\n",
      "KitchenQual <ufunc 'isnan'>\n",
      "TotRmsAbvGrd <ufunc 'isnan'>\n",
      "Functional <ufunc 'isnan'>\n",
      "Fireplaces <ufunc 'isnan'>\n",
      "FireplaceQu <ufunc 'isnan'>\n",
      "GarageType <ufunc 'isnan'>\n",
      "GarageYrBlt <ufunc 'isnan'>\n",
      "GarageFinish <ufunc 'isnan'>\n",
      "GarageCars <ufunc 'isnan'>\n",
      "GarageArea <ufunc 'isnan'>\n",
      "GarageQual <ufunc 'isnan'>\n",
      "GarageCond <ufunc 'isnan'>\n",
      "PavedDrive <ufunc 'isnan'>\n",
      "WoodDeckSF <ufunc 'isnan'>\n",
      "OpenPorchSF <ufunc 'isnan'>\n",
      "EnclosedPorch <ufunc 'isnan'>\n",
      "3SsnPorch <ufunc 'isnan'>\n",
      "ScreenPorch <ufunc 'isnan'>\n",
      "PoolArea <ufunc 'isnan'>\n",
      "PoolQC <ufunc 'isnan'>\n",
      "Fence <ufunc 'isnan'>\n",
      "MiscFeature <ufunc 'isnan'>\n",
      "MiscVal <ufunc 'isnan'>\n",
      "MoSold <ufunc 'isnan'>\n",
      "YrSold <ufunc 'isnan'>\n",
      "SaleType <ufunc 'isnan'>\n",
      "SaleCondition <ufunc 'isnan'>\n",
      "SalePrice <ufunc 'isnan'>\n"
     ]
    }
   ],
   "source": [
    "for col in train:\n",
    "    print(col, np.sum(np.isnan))"
   ]
  },
  {
   "cell_type": "code",
   "execution_count": 14,
   "metadata": {},
   "outputs": [],
   "source": [
    "target = train['SalePrice']"
   ]
  },
  {
   "cell_type": "code",
   "execution_count": 15,
   "metadata": {},
   "outputs": [
    {
     "data": {
      "text/plain": [
       "array([[6.000e+01, 6.500e+01, 8.450e+03, ..., 0.000e+00, 1.000e+00,\n",
       "        0.000e+00],\n",
       "       [2.000e+01, 8.000e+01, 9.600e+03, ..., 0.000e+00, 1.000e+00,\n",
       "        0.000e+00],\n",
       "       [6.000e+01, 6.800e+01, 1.125e+04, ..., 0.000e+00, 1.000e+00,\n",
       "        0.000e+00],\n",
       "       ...,\n",
       "       [7.000e+01, 6.600e+01, 9.042e+03, ..., 0.000e+00, 1.000e+00,\n",
       "        0.000e+00],\n",
       "       [2.000e+01, 6.800e+01, 9.717e+03, ..., 0.000e+00, 1.000e+00,\n",
       "        0.000e+00],\n",
       "       [2.000e+01, 7.500e+01, 9.937e+03, ..., 0.000e+00, 1.000e+00,\n",
       "        0.000e+00]])"
      ]
     },
     "execution_count": 15,
     "metadata": {},
     "output_type": "execute_result"
    }
   ],
   "source": [
    "data = train.drop(['SalePrice','Id'], axis=1)\n",
    "feature_names = data.columns\n",
    "data=pd.get_dummies(data)\n",
    "data=data.values\n",
    "data"
   ]
  },
  {
   "cell_type": "code",
   "execution_count": null,
   "metadata": {},
   "outputs": [],
   "source": []
  }
 ],
 "metadata": {
  "kernelspec": {
   "display_name": "Python 3",
   "language": "python",
   "name": "python3"
  },
  "language_info": {
   "codemirror_mode": {
    "name": "ipython",
    "version": 3
   },
   "file_extension": ".py",
   "mimetype": "text/x-python",
   "name": "python",
   "nbconvert_exporter": "python",
   "pygments_lexer": "ipython3",
   "version": "3.7.0"
  }
 },
 "nbformat": 4,
 "nbformat_minor": 2
}
