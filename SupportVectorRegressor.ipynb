{
 "cells": [
  {
   "cell_type": "code",
   "execution_count": 1,
   "metadata": {},
   "outputs": [
    {
     "name": "stderr",
     "output_type": "stream",
     "text": [
      "Using TensorFlow backend.\n"
     ]
    }
   ],
   "source": [
    "import os\n",
    "import tensorflow as tf\n",
    "from keras.models import Sequential\n",
    "from keras.utils import to_categorical\n",
    "from keras.layers import Dense, Dropout, Activation\n",
    "import numpy as np\n",
    "import pandas as pd\n",
    "from sklearn.svm import SVR\n",
    "\n"
   ]
  },
  {
   "cell_type": "code",
   "execution_count": 2,
   "metadata": {},
   "outputs": [],
   "source": [
    "inputs = pd.read_csv('traincleaned.csv')\n",
    "testinputs = pd.read_csv('testcleaned.csv')\n",
    "\n",
    "inputs = inputs.drop(columns=['SalePrice'])\n",
    "alldata = pd.concat([inputs, testinputs])\n",
    "alldata.set_index('Id', inplace=True)\n",
    "alldata = alldata.fillna(0)\n",
    "alldata = pd.get_dummies(alldata)\n",
    "alldata = alldata.drop(columns=['Unnamed: 0'])\n",
    "\n",
    "inputs = alldata.loc[0:1460,]\n",
    "inputs = inputs.values\n",
    "\n",
    "testinputs = alldata.loc[1461:]\n",
    "testinputs = testinputs.values\n",
    "\n"
   ]
  },
  {
   "cell_type": "code",
   "execution_count": 3,
   "metadata": {},
   "outputs": [
    {
     "data": {
      "text/plain": [
       "array([208500, 181500, 223500, ..., 266500, 142125, 147500], dtype=int64)"
      ]
     },
     "execution_count": 3,
     "metadata": {},
     "output_type": "execute_result"
    }
   ],
   "source": [
    "prices = pd.read_csv('train.csv')\n",
    "prices = prices['SalePrice']\n",
    "prices = np.array(prices)\n",
    "prices"
   ]
  },
  {
   "cell_type": "code",
   "execution_count": 4,
   "metadata": {},
   "outputs": [
    {
     "name": "stdout",
     "output_type": "stream",
     "text": [
      "(1460, 311) (1460,)\n"
     ]
    }
   ],
   "source": [
    "print(inputs.shape, prices.shape)"
   ]
  },
  {
   "cell_type": "code",
   "execution_count": 5,
   "metadata": {},
   "outputs": [],
   "source": [
    "from sklearn.model_selection import train_test_split\n",
    "from sklearn.preprocessing import MinMaxScaler\n",
    "\n",
    "\n",
    "X_train, X_test, y_train, y_test = train_test_split(inputs, prices, random_state=1)\n",
    "\n",
    "scaler = MinMaxScaler()\n",
    "X_train_scale = scaler.fit_transform(X_train)\n",
    "X_test_scale = scaler.transform(X_test)\n",
    "\n",
    "X_train = X_train_scale\n",
    "X_test = X_test_scale\n"
   ]
  },
  {
   "cell_type": "code",
   "execution_count": null,
   "metadata": {},
   "outputs": [],
   "source": []
  },
  {
   "cell_type": "code",
   "execution_count": null,
   "metadata": {},
   "outputs": [],
   "source": []
  },
  {
   "cell_type": "code",
   "execution_count": null,
   "metadata": {},
   "outputs": [],
   "source": []
  },
  {
   "cell_type": "code",
   "execution_count": 6,
   "metadata": {},
   "outputs": [
    {
     "name": "stderr",
     "output_type": "stream",
     "text": [
      "C:\\Users\\brand\\Anaconda3\\lib\\site-packages\\sklearn\\ensemble\\weight_boosting.py:29: DeprecationWarning: numpy.core.umath_tests is an internal NumPy module and should not be imported. It will be removed in a future NumPy release.\n",
      "  from numpy.core.umath_tests import inner1d\n"
     ]
    },
    {
     "data": {
      "text/plain": [
       "SVR(C=90, cache_size=200, coef0=0.0, degree=3, epsilon=0.5, gamma=0.2,\n",
       "  kernel='rbf', max_iter=-1, shrinking=True, tol=0.001, verbose=False)"
      ]
     },
     "execution_count": 6,
     "metadata": {},
     "output_type": "execute_result"
    }
   ],
   "source": [
    "from sklearn.datasets import make_hastie_10_2\n",
    "from sklearn.ensemble import GradientBoostingClassifier\n",
    "\n",
    "\n",
    "clf = SVR(kernel='rbf', C=90, gamma=0.2, epsilon=.5)\n",
    "clf.fit(X_train, y_train) "
   ]
  },
  {
   "cell_type": "code",
   "execution_count": 7,
   "metadata": {
    "scrolled": true
   },
   "outputs": [
    {
     "data": {
      "text/plain": [
       "array([166960.73884916, 164551.11037179, 164194.67800659, 164512.70959607,\n",
       "       164470.49870039, 165343.00105092, 165456.07445543, 164604.366437  ,\n",
       "       165501.17257174, 164772.67469617, 164587.86797763, 164579.54387781,\n",
       "       165562.35984608, 164662.62295723, 165978.58281985, 164324.84792907,\n",
       "       164311.06765553, 164249.35139657, 164677.32747909, 164493.18139766,\n",
       "       164519.26742282, 164433.04063217, 165254.40860174, 164929.1444833 ,\n",
       "       164526.80416368, 164582.49445239, 164568.02291937, 164791.58046646,\n",
       "       164981.45606081, 164338.70489946, 164543.7069954 , 164188.75146309,\n",
       "       164128.66638803, 164549.62206049, 164349.25658809, 165255.80880927,\n",
       "       164134.90789309, 164535.50094574, 165013.63858658, 164484.64053355,\n",
       "       164378.00976843, 164459.49857182, 164449.23873983, 164060.65800524,\n",
       "       165304.67615761, 164504.13167898, 164138.64362459, 166018.58680195,\n",
       "       165288.79203593, 164648.14068434, 164488.52346598, 164549.84309411,\n",
       "       164488.99314452, 166733.58093141, 166415.9468451 , 164250.01919876,\n",
       "       163961.5267708 , 165222.26888542, 164232.94726518, 165017.30330048,\n",
       "       164202.17108791, 165911.33651326, 164516.97849905, 164507.95375842,\n",
       "       164425.07601993, 164341.6978618 , 164220.2059656 , 165065.35036278,\n",
       "       164526.97102242, 164536.79215353, 164567.27490033, 164541.63764148,\n",
       "       165623.4846601 , 164351.45649845, 164553.14038926, 165421.40565509,\n",
       "       165067.57910319, 164549.36161222, 165176.48966198, 164884.30758308,\n",
       "       164768.59586644, 164304.2780369 , 164242.76417853, 164237.68136924,\n",
       "       164621.84100131, 164468.84243099, 164507.13676027, 164668.83099049,\n",
       "       164945.62947476, 164558.82633342, 164957.9858747 , 164576.91726263,\n",
       "       164466.3434273 , 164477.48858799, 164482.33049158, 164416.62669269,\n",
       "       164185.38754667, 164381.39869252, 164399.71556593, 164328.87401616,\n",
       "       164581.691126  , 164479.55581485, 164261.1529523 , 163800.62629678,\n",
       "       164075.9366769 , 164538.96011014, 165382.54470933, 164567.0193097 ,\n",
       "       164483.01966111, 165171.5853957 , 164494.13919274, 164532.10053317,\n",
       "       164467.75613539, 166233.47469708, 165608.43635694, 165775.50271467,\n",
       "       165657.81406945, 163980.65894492, 164536.46191798, 164675.64759159,\n",
       "       164376.04029465, 165306.85044086, 166024.33698987, 164535.35713595,\n",
       "       164561.99267817, 164841.34387077, 164863.25028759, 164573.26250966,\n",
       "       164693.53833736, 164803.35087226, 165106.42184937, 164573.24990635,\n",
       "       164425.61984985, 163851.24016757, 164526.01275179, 165416.58420434,\n",
       "       164848.07655845, 164814.12073161, 166003.01821259, 164497.39608806,\n",
       "       164553.93584227, 164655.51381146, 164551.91351746, 165537.05194516,\n",
       "       164551.88909795, 166474.7463838 , 164440.48648872, 166177.47239735,\n",
       "       165882.12944292, 164106.04223888, 164793.64767915, 165003.87788569,\n",
       "       164228.85739053, 165144.90126465, 165292.57216496, 164841.93332923,\n",
       "       164580.95057461, 164352.44352151, 164536.5593201 , 164550.70058336,\n",
       "       164577.95859984, 164305.74117311, 164557.34530591, 164507.80394999,\n",
       "       164410.1773698 , 164106.29817266, 164870.24029793, 164376.18776899,\n",
       "       164338.48898843, 164527.21093423, 165372.00623556, 164519.3091499 ,\n",
       "       164972.96912816, 165180.0411933 , 164979.38794452, 164465.1325237 ,\n",
       "       164571.67362662, 165744.71882018, 164128.5353204 , 164350.4105599 ,\n",
       "       164098.00256382, 165458.85339326, 164427.81525579, 164367.02663276,\n",
       "       165176.37336096, 164477.06514419, 165089.70334535, 165495.5295467 ,\n",
       "       164513.30181706, 164365.37404357, 163800.28122438, 164389.02632005,\n",
       "       164068.1091008 , 164814.03035343, 164403.98139635, 165013.87805849,\n",
       "       165948.67512962, 164432.90918722, 164510.98203398, 164529.21417026,\n",
       "       164979.44011824, 164756.09332562, 164516.37901352, 165644.829346  ,\n",
       "       164713.70321742, 164318.47846553, 165556.82695578, 165125.49319716,\n",
       "       164600.99051317, 164583.99777529, 166713.11361418, 164215.83524974,\n",
       "       164612.65191201, 164273.1078586 , 165694.66202606, 165142.5680313 ,\n",
       "       164233.72806542, 164481.60644468, 164546.3684659 , 164478.22786415,\n",
       "       164658.59814851, 164339.36850993, 164614.12132461, 164658.42672041,\n",
       "       164425.61352057, 164166.60484682, 166040.58716778, 164797.57610764,\n",
       "       164777.39749108, 165173.59800097, 164340.50007302, 166269.76701002,\n",
       "       164215.81009154, 164292.19947104, 165072.57665894, 164482.22280497,\n",
       "       165531.96593858, 164139.68137753, 164540.68253384, 166565.03101796,\n",
       "       165231.61578822, 164498.49788736, 164462.07286124, 164478.02788268,\n",
       "       164465.18221156, 164496.55789499, 164378.82848937, 164462.35941502,\n",
       "       164567.91358063, 164585.13329962, 164591.79099874, 164402.67290982,\n",
       "       165559.95905138, 164320.53548465, 164550.09850946, 164359.32514104,\n",
       "       164723.33712225, 164485.47381817, 164972.15639555, 164347.47312283,\n",
       "       165855.53535565, 164466.74733276, 167090.43171712, 164614.13593473,\n",
       "       164577.13153907, 164554.74174543, 164514.3452292 , 164596.48903167,\n",
       "       164135.34412834, 164205.81511249, 164570.1478184 , 164855.75900678,\n",
       "       164552.39399629, 164539.70032055, 164659.87860214, 164563.49965828,\n",
       "       164124.94121034, 164074.89781049, 164547.72872063, 164233.16469479,\n",
       "       164433.31322176, 163992.07430626, 164228.5872161 , 164428.81636447,\n",
       "       164862.69773726, 165949.34786823, 164294.91059999, 164401.03554688,\n",
       "       165890.85587516, 164310.60710281, 164511.45934285, 165138.15545908,\n",
       "       164534.73060668, 164569.29187672, 165794.7840761 , 165013.48918076,\n",
       "       165398.71492473, 165909.99364852, 164508.35803835, 163760.68561212,\n",
       "       164377.60711844, 164555.92723333, 164446.11579592, 164520.68103404,\n",
       "       164451.13017778, 164627.85179333, 164232.70104833, 164587.918821  ,\n",
       "       164400.37686023, 165157.28557857, 164544.36892474, 164548.44064499,\n",
       "       164543.36667142, 165999.73964554, 164444.28838065, 164526.57178716,\n",
       "       165107.82931059, 164840.46182091, 164831.5688568 , 164693.8226956 ,\n",
       "       166741.15442479, 164271.47347585, 164379.36136651, 165040.38432692,\n",
       "       164386.96093032, 164725.49679155, 165970.71999199, 166807.37864644,\n",
       "       164398.54973062, 164469.49792322, 164179.78770922, 164784.00939254,\n",
       "       165301.47078318, 165997.64395991, 164902.29706635, 164507.53838296,\n",
       "       164518.90904878, 164127.87031271, 165260.05535037, 165968.21479623,\n",
       "       165402.40765947, 164477.57424798, 164466.06070583, 164913.58542214,\n",
       "       164405.61642013, 164691.55199902, 164451.50511067, 164563.88430983,\n",
       "       165420.67135722, 164463.10706534, 165233.25301591, 164720.36193999,\n",
       "       165165.87135973, 164514.92006228, 164371.75323336, 164471.1868303 ,\n",
       "       165182.10429086, 164625.45606411, 164531.85037195, 165367.62901755,\n",
       "       164685.50772672, 165439.03544987, 164332.56089466, 164990.06515153,\n",
       "       164628.88570637])"
      ]
     },
     "execution_count": 7,
     "metadata": {},
     "output_type": "execute_result"
    }
   ],
   "source": [
    "predictions = clf.predict(X_test)\n",
    "predictions"
   ]
  },
  {
   "cell_type": "code",
   "execution_count": 8,
   "metadata": {},
   "outputs": [
    {
     "data": {
      "text/plain": [
       "0.40792784024230744"
      ]
     },
     "execution_count": 8,
     "metadata": {},
     "output_type": "execute_result"
    }
   ],
   "source": [
    "from sklearn.metrics import mean_squared_log_error\n",
    "import math\n",
    "math.sqrt(mean_squared_log_error(y_test, predictions))"
   ]
  },
  {
   "cell_type": "code",
   "execution_count": 9,
   "metadata": {},
   "outputs": [],
   "source": [
    "# for C in range(50,200,50):\n",
    "    \n",
    "#     for gamma in range(1, 10):\n",
    "#         gamma = gamma/10\n",
    "        \n",
    "#         for epsilon in range(1,10):\n",
    "#             epsilon = epsilon/10\n",
    "            \n",
    "#             clf = SVR(kernel='rbf', C=C, gamma=gamma, epsilon=epsilon)\n",
    "#             clf.fit(X_train, y_train) \n",
    "#             predictions = clf.predict(X_test)\n",
    "#             error = 0\n",
    "#             for x in range(100):\n",
    "#                 error += abs(predictions[x] - y_test[x])/y_test[x]\n",
    "\n",
    "#             print(C, gamma, epsilon, error/100)\n",
    "#             break\n",
    "            \n"
   ]
  },
  {
   "cell_type": "code",
   "execution_count": null,
   "metadata": {},
   "outputs": [
    {
     "name": "stdout",
     "output_type": "stream",
     "text": [
      "50 8 0.1 3 0.13610449956675016\n",
      "50 8 0.3 3 0.13610445913772304\n",
      "50 8 0.5 3 0.13610442175844306\n",
      "50 8 0.7 3 0.13610438762386537\n",
      "50 8 0.9 3 0.13610435389039333\n",
      "50 9 0.1 3 0.1373885508325944\n",
      "50 9 0.3 3 0.13738843341020548\n",
      "50 9 0.5 3 0.13738831597809265\n",
      "50 9 0.7 3 0.13738819873439517\n",
      "50 9 0.9 3 0.137388081483121\n"
     ]
    }
   ],
   "source": [
    "for C in range(50,200,20):\n",
    "    \n",
    "    for degree in range(4, 10):\n",
    "        \n",
    "        for epsilon in range(1,10, 2):\n",
    "            epsilon = epsilon/10\n",
    "            \n",
    "            for coef0 in range(2,4):\n",
    "            \n",
    "                clf = SVR(kernel='poly', C=C, gamma='auto', degree=degree, epsilon=epsilon, coef0=coef0)\n",
    "                clf.fit(X_train, y_train) \n",
    "                predictions = clf.predict(X_test)\n",
    "\n",
    "                RMSLE = math.sqrt(mean_squared_log_error(y_test, predictions))\n",
    "                \n",
    "                if RMSLE < .14:\n",
    "                    print(C, degree, epsilon, coef0, RMSLE)\n",
    "                \n",
    "                \n",
    "#C=130,degree=7,epsilon=0.1,coef0=3 0.1359030945302552"
   ]
  },
  {
   "cell_type": "code",
   "execution_count": null,
   "metadata": {},
   "outputs": [],
   "source": [
    "clf = SVR(kernel='poly', C=130, gamma= 'auto', degree=7, epsilon=0.1, coef0=3)\n",
    "clf.fit(X_train, y_train) \n",
    "testinputs = scaler.fit_transform(testinputs)\n",
    "predictions = clf.predict(testinputs)\n",
    "\n"
   ]
  },
  {
   "cell_type": "code",
   "execution_count": null,
   "metadata": {},
   "outputs": [],
   "source": []
  },
  {
   "cell_type": "code",
   "execution_count": null,
   "metadata": {},
   "outputs": [],
   "source": [
    "submittest = pd.read_csv('testcleaned.csv')\n",
    "submittest = submittest[['Id']]\n",
    "submittest['SalePrice'] = predictions\n",
    "submittest.to_csv('submission.csv', index=False)\n",
    "submittest"
   ]
  },
  {
   "cell_type": "code",
   "execution_count": null,
   "metadata": {},
   "outputs": [],
   "source": []
  },
  {
   "cell_type": "code",
   "execution_count": null,
   "metadata": {},
   "outputs": [],
   "source": []
  },
  {
   "cell_type": "code",
   "execution_count": null,
   "metadata": {},
   "outputs": [],
   "source": []
  }
 ],
 "metadata": {
  "kernelspec": {
   "display_name": "Python 3",
   "language": "python",
   "name": "python3"
  },
  "language_info": {
   "codemirror_mode": {
    "name": "ipython",
    "version": 3
   },
   "file_extension": ".py",
   "mimetype": "text/x-python",
   "name": "python",
   "nbconvert_exporter": "python",
   "pygments_lexer": "ipython3",
   "version": "3.7.0"
  }
 },
 "nbformat": 4,
 "nbformat_minor": 2
}
