{
 "cells": [
  {
   "cell_type": "code",
   "execution_count": 1,
   "metadata": {},
   "outputs": [
    {
     "name": "stderr",
     "output_type": "stream",
     "text": [
      "Using TensorFlow backend.\n"
     ]
    }
   ],
   "source": [
    "import os\n",
    "import tensorflow as tf\n",
    "from keras.models import Sequential\n",
    "from keras.utils import to_categorical\n",
    "from keras.layers import Dense, Dropout, Activation\n",
    "import numpy as np\n",
    "import pandas as pd\n",
    "from sklearn.svm import SVR\n",
    "from sklearn.metrics import mean_squared_log_error, mean_squared_error\n",
    "import matplotlib.pyplot as plt\n",
    "import math\n"
   ]
  },
  {
   "cell_type": "code",
   "execution_count": 2,
   "metadata": {},
   "outputs": [
    {
     "name": "stdout",
     "output_type": "stream",
     "text": [
      "(2919, 311)\n",
      "(2919, 311)\n"
     ]
    },
    {
     "data": {
      "text/plain": [
       "array([[2.0000e+01, 8.0000e+01, 1.1622e+04, ..., 0.0000e+00, 1.0000e+00,\n",
       "        0.0000e+00],\n",
       "       [2.0000e+01, 8.1000e+01, 1.4267e+04, ..., 0.0000e+00, 1.0000e+00,\n",
       "        0.0000e+00],\n",
       "       [6.0000e+01, 7.4000e+01, 1.3830e+04, ..., 0.0000e+00, 1.0000e+00,\n",
       "        0.0000e+00],\n",
       "       ...,\n",
       "       [2.0000e+01, 1.6000e+02, 2.0000e+04, ..., 0.0000e+00, 0.0000e+00,\n",
       "        0.0000e+00],\n",
       "       [8.5000e+01, 6.2000e+01, 1.0441e+04, ..., 0.0000e+00, 1.0000e+00,\n",
       "        0.0000e+00],\n",
       "       [6.0000e+01, 7.4000e+01, 9.6270e+03, ..., 0.0000e+00, 1.0000e+00,\n",
       "        0.0000e+00]])"
      ]
     },
     "execution_count": 2,
     "metadata": {},
     "output_type": "execute_result"
    }
   ],
   "source": [
    "dropcolumns = 0\n",
    "\n",
    "inputs = pd.read_csv('traincleaned.csv')\n",
    "testinputs = pd.read_csv('testcleaned.csv')\n",
    "featureimportance = pd.read_csv('feature importance.csv')\n",
    "featureimportance = featureimportance.rename(columns={'0': 'importance', '1':'feature'})\n",
    "featureimportance = featureimportance.drop(columns=['Unnamed: 0'])\n",
    "featureimportance = featureimportance.sort_values(by='importance')\n",
    "featureimportance = featureimportance[0:dropcolumns]\n",
    "featureimportance = featureimportance['feature'].tolist()\n",
    "\n",
    "inputs = inputs.drop(columns=['SalePrice'])\n",
    "alldata = pd.concat([inputs, testinputs])\n",
    "alldata.set_index('Id', inplace=True)\n",
    "alldata = alldata.fillna(0)\n",
    "alldata = pd.get_dummies(alldata)\n",
    "alldata = alldata.drop(columns=['Unnamed: 0'])\n",
    "print(alldata.shape)\n",
    "alldata = alldata.drop(columns=featureimportance)\n",
    "print(alldata.shape)\n",
    "\n",
    "inputs = alldata.loc[0:1460,]\n",
    "inputs = inputs.values\n",
    "\n",
    "testinputs = alldata.loc[1461:]\n",
    "testinputs = testinputs.values\n",
    "\n",
    "testinputs"
   ]
  },
  {
   "cell_type": "code",
   "execution_count": 3,
   "metadata": {},
   "outputs": [
    {
     "data": {
      "text/plain": [
       "array([5.31910606, 5.25887663, 5.34927753, ..., 5.42569721, 5.15267048,\n",
       "       5.16879202])"
      ]
     },
     "execution_count": 3,
     "metadata": {},
     "output_type": "execute_result"
    }
   ],
   "source": [
    "import numpy\n",
    "\n",
    "prices = pd.read_csv('traincleaned.csv')\n",
    "prices = prices['SalePrice']\n",
    "prices = np.array(prices)\n",
    "prices = np.log10(prices)\n",
    "prices"
   ]
  },
  {
   "cell_type": "code",
   "execution_count": 4,
   "metadata": {},
   "outputs": [
    {
     "name": "stdout",
     "output_type": "stream",
     "text": [
      "(1460, 311) (1460,)\n"
     ]
    }
   ],
   "source": [
    "print(inputs.shape, prices.shape)"
   ]
  },
  {
   "cell_type": "code",
   "execution_count": 5,
   "metadata": {},
   "outputs": [],
   "source": [
    "from sklearn.model_selection import train_test_split\n",
    "from sklearn.preprocessing import MinMaxScaler\n",
    "\n",
    "\n",
    "X_train, X_test, y_train, y_test = train_test_split(inputs, prices, random_state=1)\n",
    "\n",
    "scaler = MinMaxScaler()\n",
    "X_train_scale = scaler.fit_transform(X_train)\n",
    "X_test_scale = scaler.transform(X_test)\n",
    "\n",
    "X_train = X_train_scale\n",
    "X_test = X_test_scale\n",
    "\n",
    "inputs = scaler.fit_transform(inputs)\n",
    "\n"
   ]
  },
  {
   "cell_type": "code",
   "execution_count": null,
   "metadata": {},
   "outputs": [],
   "source": []
  },
  {
   "cell_type": "code",
   "execution_count": 15,
   "metadata": {},
   "outputs": [
    {
     "data": {
      "text/plain": [
       "array([[0.        , 0.4       , 0.18414656, ..., 0.        , 1.        ,\n",
       "        0.        ],\n",
       "       [0.        , 0.405     , 0.23212407, ..., 0.        , 1.        ,\n",
       "        0.        ],\n",
       "       [0.23529412, 0.37      , 0.22419735, ..., 0.        , 1.        ,\n",
       "        0.        ],\n",
       "       ...,\n",
       "       [0.        , 0.8       , 0.33611464, ..., 0.        , 0.        ,\n",
       "        0.        ],\n",
       "       [0.38235294, 0.31      , 0.16272447, ..., 0.        , 1.        ,\n",
       "        0.        ],\n",
       "       [0.23529412, 0.37      , 0.14795937, ..., 0.        , 1.        ,\n",
       "        0.        ]])"
      ]
     },
     "execution_count": 15,
     "metadata": {},
     "output_type": "execute_result"
    }
   ],
   "source": [
    "testinputs"
   ]
  },
  {
   "cell_type": "code",
   "execution_count": null,
   "metadata": {},
   "outputs": [],
   "source": []
  },
  {
   "cell_type": "code",
   "execution_count": null,
   "metadata": {},
   "outputs": [],
   "source": []
  },
  {
   "cell_type": "code",
   "execution_count": 9,
   "metadata": {},
   "outputs": [],
   "source": [
    "# for C in [.005, .01, .05, .1, 1, 10]:\n",
    "    \n",
    "#     for gamma in range(1, 10):\n",
    "#         gamma = gamma/10\n",
    "        \n",
    "#         for epsilon in range(1,10):\n",
    "#             epsilon = epsilon/10\n",
    "            \n",
    "#             clf = SVR(kernel='rbf', C=C, gamma=gamma, epsilon=epsilon)\n",
    "#             clf.fit(X_train, y_train) \n",
    "#             testpredictions = clf.predict(X_test)\n",
    "#             trainpredictions = clf.predict(X_train)\n",
    "            \n",
    "#             testpredictions = np.power(10, testpredictions)\n",
    "#             trainpredictions = np.power(10, trainpredictions)\n",
    "#             y_test = np.power(10, y_test)\n",
    "#             y_train = np.power(10, y_train)\n",
    "\n",
    "#             testRMSLE = math.sqrt(mean_squared_log_error(y_test, testpredictions))\n",
    "#             trainRMSLE = math.sqrt(mean_squared_log_error(y_train, trainpredictions))\n",
    "            \n",
    "#             testpredictions = np.log10(testpredictions)\n",
    "#             trainpredictions = np.log10(trainpredictions)\n",
    "#             y_test = np.log10(y_test)\n",
    "#             y_train = np.log10(y_train)\n",
    "                \n",
    "#             if trainRMSLE < .25:\n",
    "#                 print(C, gamma, epsilon, round(trainRMSLE, 4), round(testRMSLE,4), round(abs(testRMSLE - trainRMSLE), 4))\n",
    "            \n"
   ]
  },
  {
   "cell_type": "code",
   "execution_count": 10,
   "metadata": {},
   "outputs": [],
   "source": [
    "# lastRMSLE = 999\n",
    "\n",
    "# for C in range(100,300,10):\n",
    "    \n",
    "#     for degree in range(4, 10):\n",
    "        \n",
    "#         for epsilon in range(1,10, 1):\n",
    "#             epsilon = epsilon/10\n",
    "            \n",
    "#             for coef0 in range(2,5):\n",
    "            \n",
    "#                 clf = SVR(kernel='poly', C=C, gamma='auto', degree=degree, epsilon=epsilon, coef0=coef0)\n",
    "#                 clf.fit(X_train, y_train) \n",
    "                \n",
    "#                 testpredictions = clf.predict(X_test)\n",
    "#                 trainpredictions = clf.predict(X_train)\n",
    "\n",
    "#                 testpredictions = np.power(10, testpredictions)\n",
    "#                 trainpredictions = np.power(10, trainpredictions)\n",
    "#                 y_test = np.power(10, y_test)\n",
    "#                 y_train = np.power(10, y_train)\n",
    "\n",
    "#                 testRMSLE = math.sqrt(mean_squared_log_error(y_test, testpredictions))\n",
    "#                 trainRMSLE = math.sqrt(mean_squared_log_error(y_train, trainpredictions))\n",
    "\n",
    "#                 testpredictions = np.log10(testpredictions)\n",
    "#                 trainpredictions = np.log10(trainpredictions)\n",
    "#                 y_test = np.log10(y_test)\n",
    "#                 y_train = np.log10(y_train)\n",
    "                \n",
    "#                 if trainRMSLE < lastRMSLE:\n",
    "#                     lastRMSLE = trainRMSLE\n",
    "#                     print(f'C={C}, degree={degree}, epsilon={epsilon}, coef0={coef0}, trainRMSLE = {round(trainRMSLE,4)}, testRMSLE={round(testRMSLE, 4)}, diff={round(abs(testRMSLE - trainRMSLE), 4)}')\n",
    "                \n",
    "# print('---Done---')\n",
    "# #C=130,degree=7,epsilon=0.1,coef0=3 0.1359030945302552 first submission\n",
    "# #C=190,degree=9,epsilon=0.9,coef0=2 0.1359030945302552 second?\n",
    "# #C=100,degree=7,epsilon=0.1,coef0=2 0.1359030945302552"
   ]
  },
  {
   "cell_type": "code",
   "execution_count": 17,
   "metadata": {},
   "outputs": [
    {
     "data": {
      "text/plain": [
       "array([113756.23199989, 165405.21180164, 161803.63934534, ...,\n",
       "       143315.37341037, 125312.42958512, 218038.69077144])"
      ]
     },
     "execution_count": 17,
     "metadata": {},
     "output_type": "execute_result"
    }
   ],
   "source": [
    "clf = SVR(kernel='poly', gamma='auto', C=130,degree=7,epsilon=0.1,coef0=3)\n",
    "clf.fit(inputs, prices) \n",
    "testinputs = scaler.fit_transform(testinputs)\n",
    "predictions = clf.predict(testinputs)\n",
    "predictions = np.power(10, predictions)\n",
    "\n",
    "predictions"
   ]
  },
  {
   "cell_type": "code",
   "execution_count": 18,
   "metadata": {},
   "outputs": [],
   "source": [
    "# clf = SVR(kernel='rbf', C=50, gamma=0.1, epsilon=0.5)\n",
    "# clf.fit(X_train, y_train) \n",
    "# predictions = clf.predict(testinputs)"
   ]
  },
  {
   "cell_type": "code",
   "execution_count": 13,
   "metadata": {},
   "outputs": [
    {
     "data": {
      "text/html": [
       "<div>\n",
       "<style scoped>\n",
       "    .dataframe tbody tr th:only-of-type {\n",
       "        vertical-align: middle;\n",
       "    }\n",
       "\n",
       "    .dataframe tbody tr th {\n",
       "        vertical-align: top;\n",
       "    }\n",
       "\n",
       "    .dataframe thead th {\n",
       "        text-align: right;\n",
       "    }\n",
       "</style>\n",
       "<table border=\"1\" class=\"dataframe\">\n",
       "  <thead>\n",
       "    <tr style=\"text-align: right;\">\n",
       "      <th></th>\n",
       "      <th>Id</th>\n",
       "      <th>SalePrice</th>\n",
       "    </tr>\n",
       "  </thead>\n",
       "  <tbody>\n",
       "    <tr>\n",
       "      <th>0</th>\n",
       "      <td>1461</td>\n",
       "      <td>113756.232000</td>\n",
       "    </tr>\n",
       "    <tr>\n",
       "      <th>1</th>\n",
       "      <td>1462</td>\n",
       "      <td>165405.211802</td>\n",
       "    </tr>\n",
       "    <tr>\n",
       "      <th>2</th>\n",
       "      <td>1463</td>\n",
       "      <td>161803.639345</td>\n",
       "    </tr>\n",
       "    <tr>\n",
       "      <th>3</th>\n",
       "      <td>1464</td>\n",
       "      <td>170211.010929</td>\n",
       "    </tr>\n",
       "    <tr>\n",
       "      <th>4</th>\n",
       "      <td>1465</td>\n",
       "      <td>198502.655850</td>\n",
       "    </tr>\n",
       "  </tbody>\n",
       "</table>\n",
       "</div>"
      ],
      "text/plain": [
       "     Id      SalePrice\n",
       "0  1461  113756.232000\n",
       "1  1462  165405.211802\n",
       "2  1463  161803.639345\n",
       "3  1464  170211.010929\n",
       "4  1465  198502.655850"
      ]
     },
     "execution_count": 13,
     "metadata": {},
     "output_type": "execute_result"
    }
   ],
   "source": [
    "submittest = pd.read_csv('testcleaned.csv')\n",
    "submittest = submittest[['Id']]\n",
    "submittest['SalePrice'] = predictions\n",
    "submittest.to_csv('BrandenSubmission.csv', index=False)\n",
    "submittest.head()"
   ]
  },
  {
   "cell_type": "code",
   "execution_count": null,
   "metadata": {},
   "outputs": [],
   "source": []
  },
  {
   "cell_type": "code",
   "execution_count": null,
   "metadata": {},
   "outputs": [],
   "source": []
  },
  {
   "cell_type": "code",
   "execution_count": null,
   "metadata": {},
   "outputs": [],
   "source": []
  }
 ],
 "metadata": {
  "kernelspec": {
   "display_name": "Python 3",
   "language": "python",
   "name": "python3"
  },
  "language_info": {
   "codemirror_mode": {
    "name": "ipython",
    "version": 3
   },
   "file_extension": ".py",
   "mimetype": "text/x-python",
   "name": "python",
   "nbconvert_exporter": "python",
   "pygments_lexer": "ipython3",
   "version": "3.7.0"
  }
 },
 "nbformat": 4,
 "nbformat_minor": 2
}
