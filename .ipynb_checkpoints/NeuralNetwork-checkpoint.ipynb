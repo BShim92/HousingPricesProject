{
 "cells": [
  {
   "cell_type": "code",
   "execution_count": 1,
   "metadata": {},
   "outputs": [
    {
     "name": "stderr",
     "output_type": "stream",
     "text": [
      "Using TensorFlow backend.\n"
     ]
    }
   ],
   "source": [
    "import os\n",
    "import tensorflow as tf\n",
    "from keras.models import Sequential\n",
    "from keras.utils import to_categorical\n",
    "from keras.layers import Dense, Dropout, Activation\n",
    "import numpy as np\n",
    "import pandas as pd\n"
   ]
  },
  {
   "cell_type": "code",
   "execution_count": 2,
   "metadata": {},
   "outputs": [
    {
     "data": {
      "text/plain": [
       "array([[6.000e+01, 6.500e+01, 8.450e+03, ..., 0.000e+00, 1.000e+00,\n",
       "        0.000e+00],\n",
       "       [2.000e+01, 8.000e+01, 9.600e+03, ..., 0.000e+00, 1.000e+00,\n",
       "        0.000e+00],\n",
       "       [6.000e+01, 6.800e+01, 1.125e+04, ..., 0.000e+00, 1.000e+00,\n",
       "        0.000e+00],\n",
       "       ...,\n",
       "       [7.000e+01, 6.600e+01, 9.042e+03, ..., 0.000e+00, 1.000e+00,\n",
       "        0.000e+00],\n",
       "       [2.000e+01, 6.800e+01, 9.717e+03, ..., 0.000e+00, 1.000e+00,\n",
       "        0.000e+00],\n",
       "       [2.000e+01, 7.500e+01, 9.937e+03, ..., 0.000e+00, 1.000e+00,\n",
       "        0.000e+00]])"
      ]
     },
     "execution_count": 2,
     "metadata": {},
     "output_type": "execute_result"
    }
   ],
   "source": [
    "inputs = pd.read_csv('train.csv')\n",
    "inputs = inputs.drop(columns=['SalePrice', 'Id'])\n",
    "# inputs = inputs[['LotArea', 'MSSubClass']]\n",
    "inputs = inputs.fillna(0)\n",
    "inputs = pd.get_dummies(inputs)\n",
    "inputs.head()\n",
    "inputs = inputs.values\n",
    "inputs"
   ]
  },
  {
   "cell_type": "code",
   "execution_count": 3,
   "metadata": {},
   "outputs": [
    {
     "data": {
      "text/plain": [
       "array([208500, 181500, 223500, ..., 266500, 142125, 147500], dtype=int64)"
      ]
     },
     "execution_count": 3,
     "metadata": {},
     "output_type": "execute_result"
    }
   ],
   "source": [
    "prices = pd.read_csv('train.csv')\n",
    "prices = prices['SalePrice']\n",
    "prices = np.array(prices)\n",
    "prices"
   ]
  },
  {
   "cell_type": "code",
   "execution_count": 4,
   "metadata": {},
   "outputs": [
    {
     "name": "stdout",
     "output_type": "stream",
     "text": [
      "(1460, 304) (1460,)\n"
     ]
    }
   ],
   "source": [
    "print(inputs.shape, prices.shape)"
   ]
  },
  {
   "cell_type": "code",
   "execution_count": 5,
   "metadata": {},
   "outputs": [],
   "source": [
    "from sklearn.model_selection import train_test_split\n",
    "from sklearn.preprocessing import LabelEncoder, StandardScaler\n",
    "\n",
    "X_train, X_test, y_train, y_test = train_test_split(inputs, prices, random_state=1)\n",
    "X_scaler = StandardScaler().fit(X_train)\n",
    "X_train_scaled = X_scaler.transform(X_train)\n",
    "X_test_scaled = X_scaler.transform(X_test)"
   ]
  },
  {
   "cell_type": "code",
   "execution_count": 6,
   "metadata": {},
   "outputs": [
    {
     "name": "stdout",
     "output_type": "stream",
     "text": [
      "WARNING:tensorflow:From C:\\Users\\brand\\Anaconda3\\lib\\site-packages\\tensorflow\\python\\framework\\op_def_library.py:263: colocate_with (from tensorflow.python.framework.ops) is deprecated and will be removed in a future version.\n",
      "Instructions for updating:\n",
      "Colocations handled automatically by placer.\n",
      "WARNING:tensorflow:From C:\\Users\\brand\\Anaconda3\\lib\\site-packages\\keras\\backend\\tensorflow_backend.py:3445: calling dropout (from tensorflow.python.ops.nn_ops) with keep_prob is deprecated and will be removed in a future version.\n",
      "Instructions for updating:\n",
      "Please use `rate` instead of `keep_prob`. Rate should be set to `rate = 1 - keep_prob`.\n",
      "_________________________________________________________________\n",
      "Layer (type)                 Output Shape              Param #   \n",
      "=================================================================\n",
      "dense_1 (Dense)              (None, 600)               183000    \n",
      "_________________________________________________________________\n",
      "dropout_1 (Dropout)          (None, 600)               0         \n",
      "_________________________________________________________________\n",
      "dense_2 (Dense)              (None, 600)               360600    \n",
      "_________________________________________________________________\n",
      "dense_3 (Dense)              (None, 1)                 601       \n",
      "=================================================================\n",
      "Total params: 544,201\n",
      "Trainable params: 544,201\n",
      "Non-trainable params: 0\n",
      "_________________________________________________________________\n"
     ]
    }
   ],
   "source": [
    "model = Sequential()\n",
    "model.add(Dense(units=600,\n",
    "                activation='relu',\n",
    "               input_dim=inputs.shape[1]))\n",
    "model.add(Dropout(0.5))\n",
    "model.add(Dense(units=600,\n",
    "                activation='relu',\n",
    "               input_dim=inputs.shape[1]))\n",
    "model.add(Dense(units=1,\n",
    "               activation='linear'))\n",
    "model.compile(loss='mean_absolute_error', optimizer='adam', metrics=['mean_absolute_error'])\n",
    "model.summary()"
   ]
  },
  {
   "cell_type": "code",
   "execution_count": 7,
   "metadata": {},
   "outputs": [
    {
     "name": "stdout",
     "output_type": "stream",
     "text": [
      "WARNING:tensorflow:From C:\\Users\\brand\\Anaconda3\\lib\\site-packages\\tensorflow\\python\\ops\\math_ops.py:3066: to_int32 (from tensorflow.python.ops.math_ops) is deprecated and will be removed in a future version.\n",
      "Instructions for updating:\n",
      "Use tf.cast instead.\n",
      "Epoch 1/10\n",
      " - 1s - loss: 182245.9426 - mean_absolute_error: 182245.9426\n",
      "Epoch 2/10\n",
      " - 1s - loss: 181451.5332 - mean_absolute_error: 181451.5332\n",
      "Epoch 3/10\n",
      " - 1s - loss: 177573.6759 - mean_absolute_error: 177573.6759\n",
      "Epoch 4/10\n",
      " - 1s - loss: 165849.5796 - mean_absolute_error: 165849.5796\n",
      "Epoch 5/10\n",
      " - 1s - loss: 140283.5290 - mean_absolute_error: 140283.5290\n",
      "Epoch 6/10\n",
      " - 1s - loss: 98356.2582 - mean_absolute_error: 98356.2582\n",
      "Epoch 7/10\n",
      " - 1s - loss: 57205.5933 - mean_absolute_error: 57205.5933\n",
      "Epoch 8/10\n",
      " - 1s - loss: 45795.8347 - mean_absolute_error: 45795.8347\n",
      "Epoch 9/10\n",
      " - 1s - loss: 40924.5599 - mean_absolute_error: 40924.5599\n",
      "Epoch 10/10\n",
      " - 1s - loss: 37662.1939 - mean_absolute_error: 37662.1939\n",
      "0 34495.5967 35306.9173 -811.3205999999991\n",
      "Epoch 1/10\n",
      " - 1s - loss: 34722.3926 - mean_absolute_error: 34722.3926\n",
      "Epoch 2/10\n",
      " - 1s - loss: 32613.3884 - mean_absolute_error: 32613.3884\n",
      "Epoch 3/10\n",
      " - 1s - loss: 31096.4431 - mean_absolute_error: 31096.4431\n",
      "Epoch 4/10\n",
      " - 1s - loss: 29481.0525 - mean_absolute_error: 29481.0525\n",
      "Epoch 5/10\n",
      " - 1s - loss: 28684.6360 - mean_absolute_error: 28684.6360\n",
      "Epoch 6/10\n",
      " - 1s - loss: 27873.6648 - mean_absolute_error: 27873.6648\n",
      "Epoch 7/10\n",
      " - 1s - loss: 26856.1365 - mean_absolute_error: 26856.1365\n",
      "Epoch 8/10\n",
      " - 1s - loss: 26060.4574 - mean_absolute_error: 26060.4574\n",
      "Epoch 9/10\n",
      " - 1s - loss: 25052.9552 - mean_absolute_error: 25052.9552\n",
      "Epoch 10/10\n",
      " - 1s - loss: 24266.5309 - mean_absolute_error: 24266.5309\n",
      "1 22049.704 27582.5188 -5532.8148\n",
      "Epoch 1/10\n",
      " - 1s - loss: 23789.7681 - mean_absolute_error: 23789.7681\n",
      "Epoch 2/10\n",
      " - 1s - loss: 23402.3433 - mean_absolute_error: 23402.3433\n",
      "Epoch 3/10\n",
      " - 1s - loss: 23126.0752 - mean_absolute_error: 23126.0752\n",
      "Epoch 4/10\n",
      " - 1s - loss: 22373.7356 - mean_absolute_error: 22373.7356\n",
      "Epoch 5/10\n",
      " - 0s - loss: 22173.7582 - mean_absolute_error: 22173.7582\n",
      "Epoch 6/10\n",
      " - 0s - loss: 21917.1022 - mean_absolute_error: 21917.1022\n",
      "Epoch 7/10\n",
      " - 1s - loss: 21864.6576 - mean_absolute_error: 21864.6576\n",
      "Epoch 8/10\n",
      " - 0s - loss: 21028.4644 - mean_absolute_error: 21028.4644\n",
      "Epoch 9/10\n",
      " - 0s - loss: 21337.8902 - mean_absolute_error: 21337.8902\n",
      "Epoch 10/10\n",
      " - 0s - loss: 20683.0712 - mean_absolute_error: 20683.0712\n",
      "2 17837.4716 25360.3447 -7522.873100000001\n",
      "Epoch 1/10\n",
      " - 1s - loss: 20342.1075 - mean_absolute_error: 20342.1075\n",
      "Epoch 2/10\n",
      " - 1s - loss: 20024.0102 - mean_absolute_error: 20024.0102\n",
      "Epoch 3/10\n",
      " - 0s - loss: 19916.3796 - mean_absolute_error: 19916.3796\n",
      "Epoch 4/10\n",
      " - 0s - loss: 19678.2563 - mean_absolute_error: 19678.2563\n",
      "Epoch 5/10\n",
      " - 0s - loss: 19212.6965 - mean_absolute_error: 19212.6965\n",
      "Epoch 6/10\n",
      " - 0s - loss: 19619.5027 - mean_absolute_error: 19619.5027\n",
      "Epoch 7/10\n",
      " - 0s - loss: 18714.6469 - mean_absolute_error: 18714.6469\n",
      "Epoch 8/10\n",
      " - 0s - loss: 18607.9986 - mean_absolute_error: 18607.9986\n",
      "Epoch 9/10\n",
      " - 1s - loss: 18190.4570 - mean_absolute_error: 18190.4570\n",
      "Epoch 10/10\n",
      " - 1s - loss: 18594.5674 - mean_absolute_error: 18594.5674\n",
      "3 15359.3942 24067.3964 -8708.0022\n",
      "Epoch 1/10\n",
      " - 1s - loss: 18049.0836 - mean_absolute_error: 18049.0836\n",
      "Epoch 2/10\n",
      " - 1s - loss: 17957.6122 - mean_absolute_error: 17957.6122\n",
      "Epoch 3/10\n",
      " - 1s - loss: 17904.3309 - mean_absolute_error: 17904.3309\n",
      "Epoch 4/10\n",
      " - 1s - loss: 17970.9161 - mean_absolute_error: 17970.9161\n",
      "Epoch 5/10\n",
      " - 1s - loss: 17891.8033 - mean_absolute_error: 17891.8033\n",
      "Epoch 6/10\n",
      " - 1s - loss: 17934.5032 - mean_absolute_error: 17934.5032\n",
      "Epoch 7/10\n",
      " - 1s - loss: 16685.8567 - mean_absolute_error: 16685.8567\n",
      "Epoch 8/10\n",
      " - 0s - loss: 17173.2020 - mean_absolute_error: 17173.2020\n",
      "Epoch 9/10\n",
      " - 0s - loss: 16942.0642 - mean_absolute_error: 16942.0642\n",
      "Epoch 10/10\n",
      " - 0s - loss: 16216.2557 - mean_absolute_error: 16216.2557\n",
      "4 13471.0627 23252.7128 -9781.6501\n",
      "Epoch 1/10\n",
      " - 0s - loss: 16824.0292 - mean_absolute_error: 16824.0292\n",
      "Epoch 2/10\n",
      " - 0s - loss: 16620.6143 - mean_absolute_error: 16620.6143\n",
      "Epoch 3/10\n",
      " - 1s - loss: 16564.6582 - mean_absolute_error: 16564.6582\n",
      "Epoch 4/10\n",
      " - 0s - loss: 16360.7308 - mean_absolute_error: 16360.7308\n",
      "Epoch 5/10\n",
      " - 0s - loss: 15948.9475 - mean_absolute_error: 15948.9475\n",
      "Epoch 6/10\n",
      " - 0s - loss: 15991.3024 - mean_absolute_error: 15991.3024\n",
      "Epoch 7/10\n",
      " - 1s - loss: 15703.9848 - mean_absolute_error: 15703.9848\n",
      "Epoch 8/10\n",
      " - 1s - loss: 16273.3611 - mean_absolute_error: 16273.3611\n",
      "Epoch 9/10\n",
      " - 1s - loss: 16330.8341 - mean_absolute_error: 16330.8341\n",
      "Epoch 10/10\n",
      " - 1s - loss: 15912.0324 - mean_absolute_error: 15912.0324\n",
      "5 12014.6514 22627.7881 -10613.136700000001\n",
      "Epoch 1/10\n",
      " - 0s - loss: 15377.6598 - mean_absolute_error: 15377.6598\n",
      "Epoch 2/10\n",
      " - 0s - loss: 15240.9930 - mean_absolute_error: 15240.9930\n",
      "Epoch 3/10\n",
      " - 0s - loss: 15380.2099 - mean_absolute_error: 15380.2099\n",
      "Epoch 4/10\n",
      " - 0s - loss: 15372.7512 - mean_absolute_error: 15372.7512\n",
      "Epoch 5/10\n",
      " - 0s - loss: 15272.7329 - mean_absolute_error: 15272.7329\n",
      "Epoch 6/10\n",
      " - 0s - loss: 15042.5990 - mean_absolute_error: 15042.5990\n",
      "Epoch 7/10\n",
      " - 0s - loss: 15143.4641 - mean_absolute_error: 15143.4641\n",
      "Epoch 8/10\n",
      " - 0s - loss: 15112.8106 - mean_absolute_error: 15112.8106\n",
      "Epoch 9/10\n",
      " - 0s - loss: 15385.0567 - mean_absolute_error: 15385.0567\n",
      "Epoch 10/10\n",
      " - 0s - loss: 14901.5009 - mean_absolute_error: 14901.5009\n",
      "6 11088.9724 22155.7893 -11066.8169\n",
      "Epoch 1/10\n",
      " - 0s - loss: 14474.7251 - mean_absolute_error: 14474.7251\n",
      "Epoch 2/10\n",
      " - 1s - loss: 14931.9455 - mean_absolute_error: 14931.9455\n",
      "Epoch 3/10\n",
      " - 0s - loss: 14596.6358 - mean_absolute_error: 14596.6358\n",
      "Epoch 4/10\n",
      " - 1s - loss: 14969.1157 - mean_absolute_error: 14969.1157\n",
      "Epoch 5/10\n",
      " - 1s - loss: 14535.5548 - mean_absolute_error: 14535.5548\n",
      "Epoch 6/10\n",
      " - 0s - loss: 14873.7327 - mean_absolute_error: 14873.7327\n",
      "Epoch 7/10\n",
      " - 0s - loss: 14360.2776 - mean_absolute_error: 14360.2776\n",
      "Epoch 8/10\n",
      " - 0s - loss: 14683.2275 - mean_absolute_error: 14683.2275\n",
      "Epoch 9/10\n",
      " - 0s - loss: 14265.5278 - mean_absolute_error: 14265.5278\n",
      "Epoch 10/10\n",
      " - 0s - loss: 14201.0747 - mean_absolute_error: 14201.0747\n",
      "7 10236.0674 21750.0 -11513.9326\n",
      "Epoch 1/10\n",
      " - 0s - loss: 14265.5774 - mean_absolute_error: 14265.5774\n",
      "Epoch 2/10\n",
      " - 0s - loss: 14048.7832 - mean_absolute_error: 14048.7832\n",
      "Epoch 3/10\n",
      " - 0s - loss: 14017.0210 - mean_absolute_error: 14017.0210\n",
      "Epoch 4/10\n",
      " - 0s - loss: 13695.7939 - mean_absolute_error: 13695.7939\n",
      "Epoch 5/10\n",
      " - 0s - loss: 14172.6133 - mean_absolute_error: 14172.6133\n",
      "Epoch 6/10\n",
      " - 0s - loss: 14126.4001 - mean_absolute_error: 14126.4001\n",
      "Epoch 7/10\n",
      " - 1s - loss: 13696.0269 - mean_absolute_error: 13696.0269\n",
      "Epoch 8/10\n",
      " - 1s - loss: 14081.1028 - mean_absolute_error: 14081.1028\n",
      "Epoch 9/10\n",
      " - 1s - loss: 13593.4003 - mean_absolute_error: 13593.4003\n",
      "Epoch 10/10\n",
      " - 1s - loss: 13637.8689 - mean_absolute_error: 13637.8689\n",
      "8 9594.3726 21400.5126 -11806.139999999998\n",
      "Epoch 1/10\n",
      " - 1s - loss: 13363.0000 - mean_absolute_error: 13363.0000\n",
      "Epoch 2/10\n",
      " - 1s - loss: 13278.8487 - mean_absolute_error: 13278.8487\n",
      "Epoch 3/10\n",
      " - 1s - loss: 14137.7333 - mean_absolute_error: 14137.7333\n",
      "Epoch 4/10\n",
      " - 1s - loss: 13794.7934 - mean_absolute_error: 13794.7934\n",
      "Epoch 5/10\n",
      " - 1s - loss: 13188.3720 - mean_absolute_error: 13188.3720\n",
      "Epoch 6/10\n",
      " - 1s - loss: 12855.0827 - mean_absolute_error: 12855.0827\n",
      "Epoch 7/10\n",
      " - 0s - loss: 13688.5997 - mean_absolute_error: 13688.5997\n",
      "Epoch 8/10\n",
      " - 0s - loss: 13089.6297 - mean_absolute_error: 13089.6297\n",
      "Epoch 9/10\n",
      " - 0s - loss: 12968.9917 - mean_absolute_error: 12968.9917\n",
      "Epoch 10/10\n",
      " - 1s - loss: 13541.9551 - mean_absolute_error: 13541.9551\n",
      "9 9223.301 21043.5249 -11820.2239\n"
     ]
    }
   ],
   "source": [
    "for x in range(10):\n",
    "    model.fit(\n",
    "        X_train_scaled,\n",
    "        y_train,\n",
    "        epochs=10,\n",
    "        shuffle=True,\n",
    "        verbose=2\n",
    "    )\n",
    "    if x % 1 == 0:\n",
    "            test_loss, test_accuracy = model.evaluate(X_test_scaled, y_test, verbose=2)\n",
    "            train_loss, train_accuracy = model.evaluate(X_train_scaled, y_train, verbose=2)\n",
    "            print(x, round(train_accuracy, 4), round(test_accuracy,4), round(train_accuracy, 4) - round(test_accuracy,4))"
   ]
  },
  {
   "cell_type": "code",
   "execution_count": 8,
   "metadata": {},
   "outputs": [
    {
     "name": "stdout",
     "output_type": "stream",
     "text": [
      "Average Error: 0.1325808265385419\n"
     ]
    }
   ],
   "source": [
    "error = 0\n",
    "\n",
    "for x in range(len(X_test_scaled)):\n",
    "#     print((model.predict(X_test_scaled)[x][0] - y_test[x])/y_test[x])\n",
    "    error += abs((model.predict(X_test_scaled)[x][0] - y_test[x])/y_test[x])\n",
    "    \n",
    "print('Average Error:', error/x)"
   ]
  },
  {
   "cell_type": "code",
   "execution_count": null,
   "metadata": {},
   "outputs": [],
   "source": []
  },
  {
   "cell_type": "code",
   "execution_count": null,
   "metadata": {},
   "outputs": [],
   "source": []
  }
 ],
 "metadata": {
  "kernelspec": {
   "display_name": "Python 3",
   "language": "python",
   "name": "python3"
  },
  "language_info": {
   "codemirror_mode": {
    "name": "ipython",
    "version": 3
   },
   "file_extension": ".py",
   "mimetype": "text/x-python",
   "name": "python",
   "nbconvert_exporter": "python",
   "pygments_lexer": "ipython3",
   "version": "3.7.0"
  }
 },
 "nbformat": 4,
 "nbformat_minor": 2
}
