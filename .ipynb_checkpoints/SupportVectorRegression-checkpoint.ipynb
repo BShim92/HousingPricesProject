{
 "cells": [
  {
   "cell_type": "code",
   "execution_count": 1,
   "metadata": {},
   "outputs": [
    {
     "name": "stderr",
     "output_type": "stream",
     "text": [
      "Using TensorFlow backend.\n"
     ]
    }
   ],
   "source": [
    "import os\n",
    "import tensorflow as tf\n",
    "from keras.models import Sequential\n",
    "from keras.utils import to_categorical\n",
    "from keras.layers import Dense, Dropout, Activation\n",
    "import numpy as np\n",
    "import pandas as pd\n",
    "from sklearn.svm import SVR\n",
    "from sklearn.metrics import mean_squared_log_error, mean_squared_error\n",
    "import matplotlib.pyplot as plt\n",
    "import math\n",
    "import warnings\n",
    "import pyautogui\n",
    "import matplotlib.pyplot as plt\n",
    "from IPython.display import clear_output\n",
    "from numpy.random import seed\n",
    "seed(15)\n",
    "warnings.filterwarnings('ignore')"
   ]
  },
  {
   "cell_type": "markdown",
   "metadata": {},
   "source": [
    "# Settings"
   ]
  },
  {
   "cell_type": "code",
   "execution_count": 2,
   "metadata": {},
   "outputs": [
    {
     "name": "stdout",
     "output_type": "stream",
     "text": [
      "Refresh No\n"
     ]
    }
   ],
   "source": [
    "# load = pyautogui.confirm(text='Refresh or Existing Data:', buttons=['Refresh', 'Existing'])\n",
    "# tolog = pyautogui.confirm(text='Log Target Data?', buttons=['Yes', 'No'])\n",
    "load = 'Refresh'\n",
    "tolog = 'No'\n",
    "print(load, tolog)"
   ]
  },
  {
   "cell_type": "markdown",
   "metadata": {},
   "source": [
    "# Read in Data"
   ]
  },
  {
   "cell_type": "code",
   "execution_count": 3,
   "metadata": {},
   "outputs": [
    {
     "name": "stdout",
     "output_type": "stream",
     "text": [
      "(2917, 345)\n"
     ]
    }
   ],
   "source": [
    "inputs = pd.read_csv('data/traincleaned.csv')\n",
    "testinputs = pd.read_csv('data/testcleaned.csv')\n",
    "\n",
    "inputs = inputs.drop(columns=['SalePrice'])\n",
    "alldata = pd.concat([inputs, testinputs])\n",
    "alldata.set_index('Id', inplace=True)\n",
    "alldata = alldata.fillna(0)\n",
    "alldata = pd.get_dummies(alldata)\n",
    "alldata = alldata.drop(columns=['Unnamed: 0'])\n",
    "print(alldata.shape)\n",
    "\n",
    "inputs_pre = alldata.loc[0:1460,]\n",
    "testinputs_pre = alldata.loc[1461:]\n",
    "\n",
    "numericalcolumns = []\n",
    "for column in inputs_pre.columns:\n",
    "    if set(inputs_pre[column].tolist()) != {0, 1}:\n",
    "        numericalcolumns.append(column)"
   ]
  },
  {
   "cell_type": "code",
   "execution_count": 4,
   "metadata": {},
   "outputs": [
    {
     "data": {
      "text/plain": [
       "array([208500, 181500, 223500, ..., 266500, 142125, 147500], dtype=int64)"
      ]
     },
     "execution_count": 4,
     "metadata": {},
     "output_type": "execute_result"
    }
   ],
   "source": [
    "import numpy\n",
    "from sklearn.preprocessing import MinMaxScaler, StandardScaler\n",
    "\n",
    "prices = pd.read_csv('data/traincleaned.csv')\n",
    "prices = prices['SalePrice']\n",
    "prices = np.array(prices)\n",
    "if tolog == 'Yes':\n",
    "    prices = np.log10(prices)\n",
    "prices"
   ]
  },
  {
   "cell_type": "code",
   "execution_count": 5,
   "metadata": {},
   "outputs": [
    {
     "name": "stdout",
     "output_type": "stream",
     "text": [
      "(1458, 345) (1458,)\n"
     ]
    }
   ],
   "source": [
    "print(inputs_pre.shape, prices.shape)"
   ]
  },
  {
   "cell_type": "markdown",
   "metadata": {},
   "source": [
    "# Pre Process Data"
   ]
  },
  {
   "cell_type": "code",
   "execution_count": 6,
   "metadata": {},
   "outputs": [],
   "source": [
    "from sklearn.model_selection import train_test_split\n",
    "from sklearn.preprocessing import MinMaxScaler, StandardScaler\n",
    "import pickle\n",
    "\n",
    "if load == 'Refresh':\n",
    "    X_train_pre, X_test_pre, y_train, y_test = train_test_split(inputs_pre, prices, random_state=10, shuffle=True, test_size=.2)\n",
    "    \n",
    "    for column in numericalcolumns:\n",
    "        try:\n",
    "            X_scaler = StandardScaler().fit(X_train_pre[column].values.reshape(-1,1))            \n",
    "            X_train_pre[column] = X_scaler.fit_transform(X_train_pre[column].values.reshape(-1,1))\n",
    "            X_test_pre[column] = X_scaler.fit_transform(X_test_pre[column].values.reshape(-1,1))\n",
    "            testinputs_pre[column] = X_scaler.fit_transform(testinputs_pre[column].values.reshape(-1,1))\n",
    "            inputs_pre[column] = X_scaler.fit_transform(inputs_pre[column].values.reshape(-1,1))\n",
    "        except Exception as e:\n",
    "            print(column, e)\n",
    "            \n",
    "    objects = [X_train_pre, X_test_pre, testinputs_pre, inputs_pre, y_train, y_test]\n",
    "\n",
    "    with open(\"objects.txt\", \"wb\") as fp:\n",
    "        pickle.dump(objects, fp)\n",
    "        \n",
    "else:\n",
    "    with open(\"objects.txt\", \"rb\") as fp:\n",
    "        objects = pickle.load(fp)\n",
    "\n",
    "    X_train_pre, X_test_pre, testinputs_pre, inputs_pre, y_train, y_test = objects   "
   ]
  },
  {
   "cell_type": "markdown",
   "metadata": {},
   "source": [
    "# Function to drop columns from data"
   ]
  },
  {
   "cell_type": "code",
   "execution_count": 7,
   "metadata": {
    "scrolled": true
   },
   "outputs": [
    {
     "name": "stdout",
     "output_type": "stream",
     "text": [
      "Dropped 0 columns\n"
     ]
    }
   ],
   "source": [
    "def dropcolumns(columnstodrop):\n",
    "    dropcolumns = columnstodrop\n",
    "    featureimportance = pd.read_csv('data/feature importance.csv')\n",
    "    featureimportance = featureimportance.rename(columns={'0': 'importance', '1':'feature'})\n",
    "    featureimportance = featureimportance.drop(columns=['Unnamed: 0'])\n",
    "    featureimportance = featureimportance.sort_values(by='importance')\n",
    "    featureimportance = featureimportance[0:dropcolumns]\n",
    "    featureimportance = featureimportance['feature'].tolist()\n",
    "    try:\n",
    "        X_train = X_train_pre.drop(columns=featureimportance)\n",
    "        X_test = X_test_pre.drop(columns=featureimportance)\n",
    "        testinputs = testinputs_pre.drop(columns=featureimportance)\n",
    "        inputs = inputs_pre.drop(columns=featureimportance)\n",
    "    except:\n",
    "        print(f'Couldnt drop columns')\n",
    "\n",
    "    X_train = X_train.values\n",
    "    X_test = X_test.values\n",
    "    testinputs = testinputs.values\n",
    "    inputs = inputs.values\n",
    "    return X_train, X_test, testinputs, inputs\n",
    "\n",
    "X_train, X_test, testinputs, inputs = dropcolumns(0)"
   ]
  },
  {
   "cell_type": "code",
   "execution_count": 8,
   "metadata": {},
   "outputs": [
    {
     "name": "stdout",
     "output_type": "stream",
     "text": [
      "(1458, 345) (1458,)\n"
     ]
    }
   ],
   "source": [
    "print(inputs.shape, prices.shape)"
   ]
  },
  {
   "cell_type": "code",
   "execution_count": 9,
   "metadata": {},
   "outputs": [
    {
     "data": {
      "text/plain": [
       "array([[-0.81430891, -0.80641361,  1.1676262 , ...,  1.        ,\n",
       "         0.        ,  1.        ],\n",
       "       [ 0.2773475 ,  0.42832816, -0.79435378, ...,  1.        ,\n",
       "         0.        ,  1.        ],\n",
       "       [-0.64222514, -0.57706553,  1.195195  , ...,  1.        ,\n",
       "         0.        ,  1.        ],\n",
       "       ...,\n",
       "       [ 0.07837564,  0.2361218 ,  1.85225153, ...,  1.        ,\n",
       "         0.        ,  1.        ],\n",
       "       [-0.21739333, -0.07293924, -0.79435378, ...,  1.        ,\n",
       "         0.        ,  1.        ],\n",
       "       [ 0.26121465,  0.4131693 , -0.79435378, ...,  1.        ,\n",
       "         0.        ,  1.        ]])"
      ]
     },
     "execution_count": 9,
     "metadata": {},
     "output_type": "execute_result"
    }
   ],
   "source": [
    "inputs"
   ]
  },
  {
   "cell_type": "code",
   "execution_count": 10,
   "metadata": {},
   "outputs": [
    {
     "data": {
      "text/plain": [
       "array([208500, 181500, 223500, ..., 266500, 142125, 147500], dtype=int64)"
      ]
     },
     "execution_count": 10,
     "metadata": {},
     "output_type": "execute_result"
    }
   ],
   "source": [
    "prices"
   ]
  },
  {
   "cell_type": "markdown",
   "metadata": {},
   "source": [
    "# Find optimal hyperparameters (including columns to drop)"
   ]
  },
  {
   "cell_type": "code",
   "execution_count": 11,
   "metadata": {},
   "outputs": [
    {
     "name": "stdout",
     "output_type": "stream",
     "text": [
      "Dropped 185 columns\n",
      "C=200, degree=5, epsilon=0.1, coef0=2, testRMSLE=0.12128, dropcolumns=185\n",
      "C=200, degree=5, epsilon=1, coef0=2, testRMSLE=0.12128, dropcolumns=185\n",
      "C=200, degree=5, epsilon=25, coef0=2, testRMSLE=0.12126, dropcolumns=185\n",
      "C=200, degree=5, epsilon=100, coef0=2, testRMSLE=0.12121, dropcolumns=185\n",
      "C=200, degree=5, epsilon=250, coef0=2, testRMSLE=0.1211, dropcolumns=185\n",
      "C=200, degree=5, epsilon=1000, coef0=2, testRMSLE=0.12024, dropcolumns=185\n",
      "C=205, degree=5, epsilon=1000, coef0=2, testRMSLE=0.12016, dropcolumns=185\n",
      "C=210, degree=5, epsilon=1000, coef0=2, testRMSLE=0.1201, dropcolumns=185\n",
      "C=215, degree=5, epsilon=1000, coef0=2, testRMSLE=0.12003, dropcolumns=185\n",
      "C=220, degree=5, epsilon=1000, coef0=2, testRMSLE=0.11996, dropcolumns=185\n",
      "Dropped 190 columns\n",
      "C=200, degree=5, epsilon=0.1, coef0=2, testRMSLE=0.11976, dropcolumns=190\n",
      "C=200, degree=5, epsilon=1000, coef0=2, testRMSLE=0.11955, dropcolumns=190\n",
      "C=205, degree=5, epsilon=1000, coef0=2, testRMSLE=0.11947, dropcolumns=190\n",
      "C=210, degree=5, epsilon=1000, coef0=2, testRMSLE=0.1194, dropcolumns=190\n",
      "C=215, degree=5, epsilon=1000, coef0=2, testRMSLE=0.11931, dropcolumns=190\n",
      "C=220, degree=5, epsilon=1000, coef0=2, testRMSLE=0.11924, dropcolumns=190\n",
      "Dropped 195 columns\n",
      "C=200, degree=5, epsilon=0.1, coef0=2, testRMSLE=0.11915, dropcolumns=195\n",
      "C=200, degree=5, epsilon=1000, coef0=2, testRMSLE=0.11893, dropcolumns=195\n",
      "C=205, degree=5, epsilon=1000, coef0=2, testRMSLE=0.11886, dropcolumns=195\n",
      "C=210, degree=5, epsilon=1000, coef0=2, testRMSLE=0.11879, dropcolumns=195\n",
      "C=215, degree=5, epsilon=1000, coef0=2, testRMSLE=0.11874, dropcolumns=195\n",
      "C=220, degree=5, epsilon=1000, coef0=2, testRMSLE=0.1187, dropcolumns=195\n",
      "Dropped 200 columns\n",
      "C=220, degree=5, epsilon=0.1, coef0=2, testRMSLE=0.11869, dropcolumns=200\n",
      "Dropped 205 columns\n",
      "Dropped 210 columns\n",
      "---Done---\n"
     ]
    }
   ],
   "source": [
    "lastRMSLE = 1\n",
    "lastDiff = 1\n",
    "\n",
    "for columns in range(185, 215, 5):\n",
    "    X_train, X_test, testinputs, inputs = dropcolumns(columns)\n",
    "    for C in range(200, 225, 5):\n",
    "\n",
    "        for degree in range(5, 7):\n",
    "\n",
    "            for epsilon in [0.1, 1, 25, 100, 250, 1000]:\n",
    "\n",
    "\n",
    "                for coef0 in range(2,3):\n",
    "                    clf = SVR(kernel='poly', C=C, gamma='auto', degree=degree, epsilon=epsilon, coef0=coef0)\n",
    "                    clf.fit(X_train, y_train) \n",
    "                    testpredictions = clf.predict(X_test)\n",
    "                    trainpredictions = clf.predict(X_train)\n",
    "\n",
    "\n",
    "                    testpredictions[testpredictions < y_train.min()/2] = y_train.min()\n",
    "                    trainpredictions[trainpredictions < y_train.min()/2] = y_train.min()\n",
    "\n",
    "                    if tolog == 'Yes':\n",
    "                        testpredictions = np.power(10, testpredictions)\n",
    "                        trainpredictions = np.power(10, trainpredictions)\n",
    "                        y_test = np.power(10, y_test)\n",
    "                        y_train = np.power(10, y_train)\n",
    "\n",
    "\n",
    "                    testRMSLE = math.sqrt(mean_squared_log_error(y_test, testpredictions))\n",
    "                    trainRMSLE = math.sqrt(mean_squared_log_error(y_train, trainpredictions))\n",
    "\n",
    "                    if tolog == 'Yes':\n",
    "                        testpredictions = np.log10(testpredictions)\n",
    "                        trainpredictions = np.log10(trainpredictions)\n",
    "                        y_test = np.log10(y_test)\n",
    "                        y_train = np.log10(y_train)\n",
    "\n",
    "\n",
    "                    diff = round(abs(testRMSLE - trainRMSLE), 3)\n",
    "                    lastDiff = .03\n",
    "                    if testRMSLE < lastRMSLE and diff < lastDiff:\n",
    "                        lastDiff = diff\n",
    "                        lastRMSLE = testRMSLE                    \n",
    "                        print(f'C={C}, degree={degree}, epsilon={epsilon}, coef0={coef0}, testRMSLE={round(testRMSLE, 5)}, dropcolumns={columns}')\n",
    "                        Cbest = C\n",
    "                        columnsbest = columns\n",
    "                        degreebest = degree\n",
    "                        epsilonbest = epsilon\n",
    "                        coef0best = coef0\n",
    "\n",
    "print('---Done---')\n",
    "#C=130,degree=7,epsilon=0.1,coef0=3 0.1359030945302552 first submission\n",
    "#C=190,degree=9,epsilon=0.9,coef0=2 0.1359030945302552 second?\n",
    "#C=100,degree=7,epsilon=0.1,coef0=2 0.1359030945302552\n",
    "#C=200, degree=7, epsilon=4, coef0=2, standard scaler, no normalizing output data, 0.1248 Kaggle Score\n",
    "#C=131, degree=6, epsilon=0.1, coef0=2, trainRMSLE = 0.1, testRMSLE=0.11711, diff=0.018, dropcolumns=20, kaggle score 0.12321\n",
    "#C=210, degree=5, epsilon=13, coef0=3, trainRMSLE = 0.1, testRMSLE=0.13396, diff=0.034, no feat eng, no target scaling, dropcolumns = 4,\n",
    "#C=200, degree=6, epsilon=100, coef0=2, trainRMSLE = 0.09, testRMSLE=0.11705, diff=0.022, dropcolumns=4, kaggle = 0.12285"
   ]
  },
  {
   "cell_type": "markdown",
   "metadata": {},
   "source": [
    "# Plot residuals"
   ]
  },
  {
   "cell_type": "code",
   "execution_count": 12,
   "metadata": {},
   "outputs": [
    {
     "name": "stdout",
     "output_type": "stream",
     "text": [
      "(292,) (292,)\n"
     ]
    },
    {
     "data": {
      "text/plain": [
       "<matplotlib.collections.PathCollection at 0x246d3953080>"
      ]
     },
     "execution_count": 12,
     "metadata": {},
     "output_type": "execute_result"
    },
    {
     "data": {
      "image/png": "[encoded data removed]",
      "text/plain": [
       "<Figure size 432x288 with 1 Axes>"
      ]
     },
     "metadata": {
      "needs_background": "light"
     },
     "output_type": "display_data"
    }
   ],
   "source": [
    "predicted = clf.predict(X_test)\n",
    "\n",
    "if tolog == 'Yes':\n",
    "    y_train = np.power(10, y_train)\n",
    "\n",
    "# predicted[predicted < y_train.min()/2] = y_train.min()\n",
    "predicted_graph = predicted\n",
    "y_test_graph = predicted\n",
    "print(predicted_graph.shape, y_test_graph.shape)\n",
    "residuals = predicted_graph[0] - y_test_graph\n",
    "xaxis = np.arange(len(residuals))\n",
    "plt.scatter(xaxis, residuals)"
   ]
  },
  {
   "cell_type": "code",
   "execution_count": 13,
   "metadata": {},
   "outputs": [
    {
     "name": "stdout",
     "output_type": "stream",
     "text": [
      "(1166,) (1166,)\n"
     ]
    },
    {
     "data": {
      "text/plain": [
       "<matplotlib.collections.PathCollection at 0x246d39d5cc0>"
      ]
     },
     "execution_count": 13,
     "metadata": {},
     "output_type": "execute_result"
    },
    {
     "data": {
      "image/png": "[encoded data removed]",
      "text/plain": [
       "<Figure size 432x288 with 1 Axes>"
      ]
     },
     "metadata": {
      "needs_background": "light"
     },
     "output_type": "display_data"
    }
   ],
   "source": [
    "predicted = clf.predict(X_train)\n",
    "if tolog == 'Yes':\n",
    "    y_train = np.power(10, y_train)\n",
    "# predicted[predicted < y_train.min()/2] = y_train.min()\n",
    "predicted_graph = predicted\n",
    "y_train_graph = predicted\n",
    "print(predicted_graph.shape, y_train_graph.shape)\n",
    "residuals = predicted_graph[0] - y_train_graph\n",
    "xaxis = np.arange(len(residuals))\n",
    "plt.scatter(xaxis, residuals)"
   ]
  },
  {
   "cell_type": "markdown",
   "metadata": {},
   "source": [
    "# Train final model"
   ]
  },
  {
   "cell_type": "code",
   "execution_count": 14,
   "metadata": {},
   "outputs": [
    {
     "name": "stdout",
     "output_type": "stream",
     "text": [
      "name 'skipthissection' is not defined\n",
      "Dropped 200 columns\n",
      "C=220, degree=5, epsilon=0.1, coef0=2, dropcolumns=200\n",
      "[122278.51315003 161775.72713906 190066.05648251 ... 181676.25108969\n",
      " 122937.5730352  231928.01011072]\n"
     ]
    }
   ],
   "source": [
    "try:\n",
    "    skipthissection\n",
    "    X_train, X_test, testinputs, inputs = dropcolumns(columnsbest)\n",
    "    clf = SVR(kernel='poly', gamma='auto', C=131, degree=6, epsilon=0.1, coef0=2)      \n",
    "    print('Used entered hyperparameters')\n",
    "    print(clf)\n",
    "except Exception as e:\n",
    "    print(e)\n",
    "    X_train, X_test, testinputs, inputs = dropcolumns(columnsbest)\n",
    "    clf = SVR(kernel='poly', gamma='auto', C=Cbest, degree=degreebest, epsilon=epsilonbest, coef0=coef0best)\n",
    "    print(f'C={Cbest}, degree={degreebest}, epsilon={epsilonbest}, coef0={coef0best}, dropcolumns={columnsbest}')\n",
    "\n",
    "clf.fit(inputs, prices) \n",
    "predictions = clf.predict(testinputs)\n",
    "\n",
    "if tolog == 'Yes':\n",
    "    predictions = np.power(10, predictions)\n",
    "\n",
    "predictions[predictions < y_train.min()/2] = y_train.min()\n",
    "\n",
    "print(predictions)"
   ]
  },
  {
   "cell_type": "markdown",
   "metadata": {},
   "source": [
    "# Save predictions"
   ]
  },
  {
   "cell_type": "code",
   "execution_count": 15,
   "metadata": {},
   "outputs": [
    {
     "data": {
      "text/html": [
       "<div>\n",
       "<style scoped>\n",
       "    .dataframe tbody tr th:only-of-type {\n",
       "        vertical-align: middle;\n",
       "    }\n",
       "\n",
       "    .dataframe tbody tr th {\n",
       "        vertical-align: top;\n",
       "    }\n",
       "\n",
       "    .dataframe thead th {\n",
       "        text-align: right;\n",
       "    }\n",
       "</style>\n",
       "<table border=\"1\" class=\"dataframe\">\n",
       "  <thead>\n",
       "    <tr style=\"text-align: right;\">\n",
       "      <th></th>\n",
       "      <th>Id</th>\n",
       "      <th>SalePrice</th>\n",
       "    </tr>\n",
       "  </thead>\n",
       "  <tbody>\n",
       "    <tr>\n",
       "      <th>0</th>\n",
       "      <td>1461</td>\n",
       "      <td>122278.513150</td>\n",
       "    </tr>\n",
       "    <tr>\n",
       "      <th>1</th>\n",
       "      <td>1462</td>\n",
       "      <td>161775.727139</td>\n",
       "    </tr>\n",
       "    <tr>\n",
       "      <th>2</th>\n",
       "      <td>1463</td>\n",
       "      <td>190066.056483</td>\n",
       "    </tr>\n",
       "    <tr>\n",
       "      <th>3</th>\n",
       "      <td>1464</td>\n",
       "      <td>199039.694947</td>\n",
       "    </tr>\n",
       "    <tr>\n",
       "      <th>4</th>\n",
       "      <td>1465</td>\n",
       "      <td>184175.935449</td>\n",
       "    </tr>\n",
       "  </tbody>\n",
       "</table>\n",
       "</div>"
      ],
      "text/plain": [
       "     Id      SalePrice\n",
       "0  1461  122278.513150\n",
       "1  1462  161775.727139\n",
       "2  1463  190066.056483\n",
       "3  1464  199039.694947\n",
       "4  1465  184175.935449"
      ]
     },
     "execution_count": 15,
     "metadata": {},
     "output_type": "execute_result"
    }
   ],
   "source": [
    "submittest = pd.read_csv('data/testcleaned.csv')\n",
    "submittest = submittest[['Id']]\n",
    "submittest['SalePrice'] = predictions\n",
    "submittest.to_csv(f'Submissions/SupportVector/SupportVector-C{Cbest}-degree{degreebest}-epsilon{epsilonbest}-coef0{coef0best}-dropcolumns{columnsbest}-testRMSLE{round(lastRMSLE, 5)}.csv', index=False)\n",
    "submittest.head()"
   ]
  }
 ],
 "metadata": {
  "kernelspec": {
   "display_name": "Python 3",
   "language": "python",
   "name": "python3"
  },
  "language_info": {
   "codemirror_mode": {
    "name": "ipython",
    "version": 3
   },
   "file_extension": ".py",
   "mimetype": "text/x-python",
   "name": "python",
   "nbconvert_exporter": "python",
   "pygments_lexer": "ipython3",
   "version": "3.7.0"
  }
 },
 "nbformat": 4,
 "nbformat_minor": 2
}
