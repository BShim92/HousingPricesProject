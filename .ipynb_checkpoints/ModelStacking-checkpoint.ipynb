{
 "cells": [
  {
   "cell_type": "markdown",
   "metadata": {},
   "source": [
    "# Weighted stacking of models based on scores"
   ]
  },
  {
   "cell_type": "code",
   "execution_count": 1,
   "metadata": {},
   "outputs": [],
   "source": [
    "import pandas as pd\n",
    "import numpy as np"
   ]
  },
  {
   "cell_type": "code",
   "execution_count": 2,
   "metadata": {},
   "outputs": [],
   "source": [
    "lassodf = pd.read_csv('./StackedSubmissions/Lasso204.csv')\n",
    "lineardf = pd.read_csv('./StackedSubmissions/Linear217.csv')\n",
    "ridgedf = pd.read_csv('./StackedSubmissions/Ridge199.csv')\n",
    "shetudf = pd.read_csv('./StackedSubmissions/SKsubmission8.csv')\n",
    "svrdf = pd.read_csv('./StackedSubmissions/SVR4.csv')\n",
    "nndf = pd.read_csv('./StackedSubmissions/NN.csv')\n"
   ]
  },
  {
   "cell_type": "code",
   "execution_count": 3,
   "metadata": {},
   "outputs": [
    {
     "data": {
      "text/plain": [
       "array([0.24570603, 0.24073114, 0.23812426, 0.10707719, 0.16836138])"
      ]
     },
     "execution_count": 3,
     "metadata": {},
     "output_type": "execute_result"
    }
   ],
   "source": [
    "#Use model scores to assign weights\n",
    "scoreslist = np.array([.11718, .11748, .11764, .13, .12285, .12770])\n",
    "scoreslist = np.array([.11718, .11748, .11764, .13, .12285])\n",
    "scoreslist = (1/(scoreslist**4))**2\n",
    "sumscoreslist = sum(scoreslist)\n",
    "scoreslist = scoreslist/sumscoreslist\n",
    "scoreslist\n",
    "#1, 1/scoreslist^4, then divided by sum to get to 1"
   ]
  },
  {
   "cell_type": "code",
   "execution_count": 4,
   "metadata": {},
   "outputs": [],
   "source": [
    "modellist = ['lasso', 'linear', 'ridge', 'shetu', 'svr', 'nn']\n",
    "modellist = ['lasso', 'linear', 'ridge', 'shetu', 'svr']"
   ]
  },
  {
   "cell_type": "code",
   "execution_count": 5,
   "metadata": {},
   "outputs": [
    {
     "data": {
      "text/html": [
       "<div>\n",
       "<style scoped>\n",
       "    .dataframe tbody tr th:only-of-type {\n",
       "        vertical-align: middle;\n",
       "    }\n",
       "\n",
       "    .dataframe tbody tr th {\n",
       "        vertical-align: top;\n",
       "    }\n",
       "\n",
       "    .dataframe thead th {\n",
       "        text-align: right;\n",
       "    }\n",
       "</style>\n",
       "<table border=\"1\" class=\"dataframe\">\n",
       "  <thead>\n",
       "    <tr style=\"text-align: right;\">\n",
       "      <th></th>\n",
       "      <th>Id</th>\n",
       "      <th>lasso</th>\n",
       "    </tr>\n",
       "  </thead>\n",
       "  <tbody>\n",
       "    <tr>\n",
       "      <th>0</th>\n",
       "      <td>1461</td>\n",
       "      <td>108304.912523</td>\n",
       "    </tr>\n",
       "    <tr>\n",
       "      <th>1</th>\n",
       "      <td>1462</td>\n",
       "      <td>162030.068747</td>\n",
       "    </tr>\n",
       "    <tr>\n",
       "      <th>2</th>\n",
       "      <td>1463</td>\n",
       "      <td>181375.761421</td>\n",
       "    </tr>\n",
       "    <tr>\n",
       "      <th>3</th>\n",
       "      <td>1464</td>\n",
       "      <td>199193.051897</td>\n",
       "    </tr>\n",
       "    <tr>\n",
       "      <th>4</th>\n",
       "      <td>1465</td>\n",
       "      <td>180839.853326</td>\n",
       "    </tr>\n",
       "  </tbody>\n",
       "</table>\n",
       "</div>"
      ],
      "text/plain": [
       "     Id          lasso\n",
       "0  1461  108304.912523\n",
       "1  1462  162030.068747\n",
       "2  1463  181375.761421\n",
       "3  1464  199193.051897\n",
       "4  1465  180839.853326"
      ]
     },
     "execution_count": 5,
     "metadata": {},
     "output_type": "execute_result"
    }
   ],
   "source": [
    "df = lassodf\n",
    "df = df.rename(columns={'SalePrice': 'lasso'})\n",
    "df.head()"
   ]
  },
  {
   "cell_type": "code",
   "execution_count": 6,
   "metadata": {},
   "outputs": [
    {
     "data": {
      "text/html": [
       "<div>\n",
       "<style scoped>\n",
       "    .dataframe tbody tr th:only-of-type {\n",
       "        vertical-align: middle;\n",
       "    }\n",
       "\n",
       "    .dataframe tbody tr th {\n",
       "        vertical-align: top;\n",
       "    }\n",
       "\n",
       "    .dataframe thead th {\n",
       "        text-align: right;\n",
       "    }\n",
       "</style>\n",
       "<table border=\"1\" class=\"dataframe\">\n",
       "  <thead>\n",
       "    <tr style=\"text-align: right;\">\n",
       "      <th></th>\n",
       "      <th>Id</th>\n",
       "      <th>lasso</th>\n",
       "      <th>linear</th>\n",
       "      <th>ridge</th>\n",
       "      <th>shetu</th>\n",
       "      <th>svr</th>\n",
       "      <th>nn</th>\n",
       "    </tr>\n",
       "  </thead>\n",
       "  <tbody>\n",
       "    <tr>\n",
       "      <th>0</th>\n",
       "      <td>1461</td>\n",
       "      <td>108304.912523</td>\n",
       "      <td>116866.242075</td>\n",
       "      <td>109081.670064</td>\n",
       "      <td>116920.58</td>\n",
       "      <td>123443.364246</td>\n",
       "      <td>124410.887163</td>\n",
       "    </tr>\n",
       "    <tr>\n",
       "      <th>1</th>\n",
       "      <td>1462</td>\n",
       "      <td>162030.068747</td>\n",
       "      <td>162271.368037</td>\n",
       "      <td>161532.537362</td>\n",
       "      <td>168658.50</td>\n",
       "      <td>159022.765721</td>\n",
       "      <td>156575.887390</td>\n",
       "    </tr>\n",
       "    <tr>\n",
       "      <th>2</th>\n",
       "      <td>1463</td>\n",
       "      <td>181375.761421</td>\n",
       "      <td>182023.416264</td>\n",
       "      <td>182708.553870</td>\n",
       "      <td>179968.16</td>\n",
       "      <td>191627.071839</td>\n",
       "      <td>188145.731058</td>\n",
       "    </tr>\n",
       "    <tr>\n",
       "      <th>3</th>\n",
       "      <td>1464</td>\n",
       "      <td>199193.051897</td>\n",
       "      <td>203857.594609</td>\n",
       "      <td>201349.084006</td>\n",
       "      <td>190611.72</td>\n",
       "      <td>200351.354920</td>\n",
       "      <td>201823.845578</td>\n",
       "    </tr>\n",
       "    <tr>\n",
       "      <th>4</th>\n",
       "      <td>1465</td>\n",
       "      <td>180839.853326</td>\n",
       "      <td>180884.623978</td>\n",
       "      <td>193678.073899</td>\n",
       "      <td>197212.47</td>\n",
       "      <td>182395.958999</td>\n",
       "      <td>178524.257151</td>\n",
       "    </tr>\n",
       "  </tbody>\n",
       "</table>\n",
       "</div>"
      ],
      "text/plain": [
       "     Id          lasso         linear          ridge      shetu  \\\n",
       "0  1461  108304.912523  116866.242075  109081.670064  116920.58   \n",
       "1  1462  162030.068747  162271.368037  161532.537362  168658.50   \n",
       "2  1463  181375.761421  182023.416264  182708.553870  179968.16   \n",
       "3  1464  199193.051897  203857.594609  201349.084006  190611.72   \n",
       "4  1465  180839.853326  180884.623978  193678.073899  197212.47   \n",
       "\n",
       "             svr             nn  \n",
       "0  123443.364246  124410.887163  \n",
       "1  159022.765721  156575.887390  \n",
       "2  191627.071839  188145.731058  \n",
       "3  200351.354920  201823.845578  \n",
       "4  182395.958999  178524.257151  "
      ]
     },
     "execution_count": 6,
     "metadata": {},
     "output_type": "execute_result"
    }
   ],
   "source": [
    "#take outputs from each models\n",
    "df['linear'] = lineardf['SalePrice']\n",
    "df['ridge'] = ridgedf['SalePrice']\n",
    "df['shetu'] = shetudf['SalePrice']\n",
    "df['svr'] = svrdf['SalePrice']\n",
    "df['nn'] = nndf['SalePrice']\n",
    "df.head()"
   ]
  },
  {
   "cell_type": "code",
   "execution_count": 7,
   "metadata": {},
   "outputs": [],
   "source": [
    "#generate stacked output by multiplying model outputs and respective weights\n",
    "df['SalePrice'] = 0\n",
    "for i, model in enumerate(modellist):\n",
    "    df['SalePrice'] += scoreslist[i] * df[model]"
   ]
  },
  {
   "cell_type": "code",
   "execution_count": 8,
   "metadata": {},
   "outputs": [
    {
     "data": {
      "text/html": [
       "<div>\n",
       "<style scoped>\n",
       "    .dataframe tbody tr th:only-of-type {\n",
       "        vertical-align: middle;\n",
       "    }\n",
       "\n",
       "    .dataframe tbody tr th {\n",
       "        vertical-align: top;\n",
       "    }\n",
       "\n",
       "    .dataframe thead th {\n",
       "        text-align: right;\n",
       "    }\n",
       "</style>\n",
       "<table border=\"1\" class=\"dataframe\">\n",
       "  <thead>\n",
       "    <tr style=\"text-align: right;\">\n",
       "      <th></th>\n",
       "      <th>Id</th>\n",
       "      <th>SalePrice</th>\n",
       "    </tr>\n",
       "  </thead>\n",
       "  <tbody>\n",
       "    <tr>\n",
       "      <th>0</th>\n",
       "      <td>1461</td>\n",
       "      <td>114022.128035</td>\n",
       "    </tr>\n",
       "    <tr>\n",
       "      <th>1</th>\n",
       "      <td>1462</td>\n",
       "      <td>162173.122781</td>\n",
       "    </tr>\n",
       "    <tr>\n",
       "      <th>2</th>\n",
       "      <td>1463</td>\n",
       "      <td>183424.245120</td>\n",
       "    </tr>\n",
       "    <tr>\n",
       "      <th>3</th>\n",
       "      <td>1464</td>\n",
       "      <td>200105.504741</td>\n",
       "    </tr>\n",
       "    <tr>\n",
       "      <th>4</th>\n",
       "      <td>1465</td>\n",
       "      <td>185922.844625</td>\n",
       "    </tr>\n",
       "  </tbody>\n",
       "</table>\n",
       "</div>"
      ],
      "text/plain": [
       "     Id      SalePrice\n",
       "0  1461  114022.128035\n",
       "1  1462  162173.122781\n",
       "2  1463  183424.245120\n",
       "3  1464  200105.504741\n",
       "4  1465  185922.844625"
      ]
     },
     "execution_count": 8,
     "metadata": {},
     "output_type": "execute_result"
    }
   ],
   "source": [
    "#save stacked outputs to csv\n",
    "df = df[['Id', 'SalePrice']]\n",
    "df.to_csv('./StackedSubmissions/StackedSubmission.csv', index=False)\n",
    "df.head()"
   ]
  }
 ],
 "metadata": {
  "kernelspec": {
   "display_name": "Python 3",
   "language": "python",
   "name": "python3"
  },
  "language_info": {
   "codemirror_mode": {
    "name": "ipython",
    "version": 3
   },
   "file_extension": ".py",
   "mimetype": "text/x-python",
   "name": "python",
   "nbconvert_exporter": "python",
   "pygments_lexer": "ipython3",
   "version": "3.7.0"
  }
 },
 "nbformat": 4,
 "nbformat_minor": 2
}
