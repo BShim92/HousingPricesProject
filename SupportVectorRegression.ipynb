{
 "cells": [
  {
   "cell_type": "code",
   "execution_count": 1,
   "metadata": {},
   "outputs": [
    {
     "name": "stderr",
     "output_type": "stream",
     "text": [
      "Using TensorFlow backend.\n"
     ]
    }
   ],
   "source": [
    "import os\n",
    "import tensorflow as tf\n",
    "from keras.models import Sequential\n",
    "from keras.utils import to_categorical\n",
    "from keras.layers import Dense, Dropout, Activation\n",
    "import numpy as np\n",
    "import pandas as pd\n",
    "from sklearn.svm import SVR\n",
    "from sklearn.metrics import mean_squared_log_error, mean_squared_error\n",
    "import matplotlib.pyplot as plt\n",
    "import math\n",
    "import warnings\n",
    "import pyautogui\n",
    "import matplotlib.pyplot as plt\n",
    "from IPython.display import clear_output\n",
    "from numpy.random import seed\n",
    "seed(15)\n",
    "warnings.filterwarnings('ignore')"
   ]
  },
  {
   "cell_type": "code",
   "execution_count": 2,
   "metadata": {},
   "outputs": [
    {
     "name": "stdout",
     "output_type": "stream",
     "text": [
      "Existing No\n"
     ]
    }
   ],
   "source": [
    "load = pyautogui.confirm(text='Refresh or Existing Data:', buttons=['Refresh', 'Existing'])\n",
    "tolog = pyautogui.confirm(text='Log Target Data?', buttons=['Yes', 'No'])\n",
    "print(load, tolog)"
   ]
  },
  {
   "cell_type": "code",
   "execution_count": 3,
   "metadata": {},
   "outputs": [
    {
     "name": "stdout",
     "output_type": "stream",
     "text": [
      "(2917, 345)\n"
     ]
    }
   ],
   "source": [
    "inputs = pd.read_csv('data/traincleaned.csv')\n",
    "testinputs = pd.read_csv('data/testcleaned.csv')\n",
    "\n",
    "inputs = inputs.drop(columns=['SalePrice'])\n",
    "alldata = pd.concat([inputs, testinputs])\n",
    "alldata.set_index('Id', inplace=True)\n",
    "alldata = alldata.fillna(0)\n",
    "alldata = pd.get_dummies(alldata)\n",
    "alldata = alldata.drop(columns=['Unnamed: 0'])\n",
    "print(alldata.shape)\n",
    "\n",
    "inputs_pre = alldata.loc[0:1460,]\n",
    "testinputs_pre = alldata.loc[1461:]\n",
    "\n",
    "numericalcolumns = []\n",
    "for column in inputs_pre.columns:\n",
    "    if set(inputs_pre[column].tolist()) != {0, 1}:\n",
    "        numericalcolumns.append(column)"
   ]
  },
  {
   "cell_type": "code",
   "execution_count": 4,
   "metadata": {},
   "outputs": [
    {
     "data": {
      "text/plain": [
       "array([208500, 181500, 223500, ..., 266500, 142125, 147500], dtype=int64)"
      ]
     },
     "execution_count": 4,
     "metadata": {},
     "output_type": "execute_result"
    }
   ],
   "source": [
    "import numpy\n",
    "from sklearn.preprocessing import MinMaxScaler, StandardScaler\n",
    "\n",
    "prices = pd.read_csv('data/traincleaned.csv')\n",
    "prices = prices['SalePrice']\n",
    "prices = np.array(prices)\n",
    "if tolog == 'Yes':\n",
    "    prices = np.log10(prices)\n",
    "prices"
   ]
  },
  {
   "cell_type": "code",
   "execution_count": null,
   "metadata": {},
   "outputs": [],
   "source": []
  },
  {
   "cell_type": "code",
   "execution_count": 5,
   "metadata": {},
   "outputs": [
    {
     "name": "stdout",
     "output_type": "stream",
     "text": [
      "(1458, 345) (1458,)\n"
     ]
    }
   ],
   "source": [
    "print(inputs_pre.shape, prices.shape)"
   ]
  },
  {
   "cell_type": "code",
   "execution_count": 6,
   "metadata": {},
   "outputs": [],
   "source": [
    "from sklearn.model_selection import train_test_split\n",
    "from sklearn.preprocessing import MinMaxScaler, StandardScaler\n",
    "import pickle\n",
    "\n",
    "if load == 'Refresh':\n",
    "    \n",
    "    X_train_pre, X_test_pre, y_train, y_test = train_test_split(inputs_pre, prices, random_state=10, shuffle=True, test_size=.2)\n",
    "    \n",
    "\n",
    "    for column in numericalcolumns:\n",
    "        try:\n",
    "#             X_scaler = MinMaxScaler().fit(X_train_pre[column].values.reshape(-1,1))\n",
    "            X_scaler = StandardScaler().fit(X_train_pre[column].values.reshape(-1,1))\n",
    "            \n",
    "            X_train_pre[column] = X_scaler.fit_transform(X_train_pre[column].values.reshape(-1,1))\n",
    "            X_test_pre[column] = X_scaler.fit_transform(X_test_pre[column].values.reshape(-1,1))\n",
    "            testinputs_pre[column] = X_scaler.fit_transform(testinputs_pre[column].values.reshape(-1,1))\n",
    "            inputs_pre[column] = X_scaler.fit_transform(inputs_pre[column].values.reshape(-1,1))\n",
    "        except Exception as e:\n",
    "            print(column, e)\n",
    "            \n",
    "    \n",
    "    objects = [X_train_pre, X_test_pre, testinputs_pre, inputs_pre, y_train, y_test]\n",
    "\n",
    "    with open(\"objects.txt\", \"wb\") as fp:\n",
    "        pickle.dump(objects, fp)\n",
    "        \n",
    "else:\n",
    "    with open(\"objects.txt\", \"rb\") as fp:\n",
    "        objects = pickle.load(fp)\n",
    "\n",
    "    X_train_pre, X_test_pre, testinputs_pre, inputs_pre, y_train, y_test = objects   "
   ]
  },
  {
   "cell_type": "code",
   "execution_count": null,
   "metadata": {},
   "outputs": [],
   "source": []
  },
  {
   "cell_type": "code",
   "execution_count": 7,
   "metadata": {},
   "outputs": [
    {
     "name": "stdout",
     "output_type": "stream",
     "text": [
      "Dropped 0 columns\n"
     ]
    }
   ],
   "source": [
    "def dropcolumns(columnstodrop):\n",
    "    dropcolumns = columnstodrop\n",
    "    featureimportance = pd.read_csv('data/feature importance.csv')\n",
    "    featureimportance = featureimportance.rename(columns={'0': 'importance', '1':'feature'})\n",
    "    featureimportance = featureimportance.drop(columns=['Unnamed: 0'])\n",
    "    featureimportance = featureimportance.sort_values(by='importance')\n",
    "    featureimportance = featureimportance[0:dropcolumns]\n",
    "    featureimportance = featureimportance['feature'].tolist()\n",
    "    try:\n",
    "        X_train = X_train_pre.drop(columns=featureimportance)\n",
    "        X_test = X_test_pre.drop(columns=featureimportance)\n",
    "        testinputs = testinputs_pre.drop(columns=featureimportance)\n",
    "        inputs = inputs_pre.drop(columns=featureimportance)\n",
    "    except:\n",
    "        print(f'Couldnt drop columns')\n",
    "\n",
    "    print(f'Dropped {inputs_pre.shape[1] - inputs.shape[1]} columns')\n",
    "    X_train = X_train.values\n",
    "    X_test = X_test.values\n",
    "    testinputs = testinputs.values\n",
    "    inputs = inputs.values\n",
    "    return X_train, X_test, testinputs, inputs\n",
    "\n",
    "X_train, X_test, testinputs, inputs = dropcolumns(0)"
   ]
  },
  {
   "cell_type": "code",
   "execution_count": null,
   "metadata": {},
   "outputs": [],
   "source": []
  },
  {
   "cell_type": "code",
   "execution_count": 8,
   "metadata": {},
   "outputs": [
    {
     "name": "stdout",
     "output_type": "stream",
     "text": [
      "(1458, 345) (1458,)\n"
     ]
    }
   ],
   "source": [
    "print(inputs.shape, prices.shape)"
   ]
  },
  {
   "cell_type": "code",
   "execution_count": 9,
   "metadata": {},
   "outputs": [
    {
     "data": {
      "text/plain": [
       "array([[-0.81430891, -0.80641361,  1.1676262 , ...,  1.        ,\n",
       "         0.        ,  1.        ],\n",
       "       [ 0.2773475 ,  0.42832816, -0.79435378, ...,  1.        ,\n",
       "         0.        ,  1.        ],\n",
       "       [-0.64222514, -0.57706553,  1.195195  , ...,  1.        ,\n",
       "         0.        ,  1.        ],\n",
       "       ...,\n",
       "       [ 0.07837564,  0.2361218 ,  1.85225153, ...,  1.        ,\n",
       "         0.        ,  1.        ],\n",
       "       [-0.21739333, -0.07293924, -0.79435378, ...,  1.        ,\n",
       "         0.        ,  1.        ],\n",
       "       [ 0.26121465,  0.4131693 , -0.79435378, ...,  1.        ,\n",
       "         0.        ,  1.        ]])"
      ]
     },
     "execution_count": 9,
     "metadata": {},
     "output_type": "execute_result"
    }
   ],
   "source": [
    "inputs"
   ]
  },
  {
   "cell_type": "code",
   "execution_count": 10,
   "metadata": {},
   "outputs": [
    {
     "data": {
      "text/plain": [
       "array([208500, 181500, 223500, ..., 266500, 142125, 147500], dtype=int64)"
      ]
     },
     "execution_count": 10,
     "metadata": {},
     "output_type": "execute_result"
    }
   ],
   "source": [
    "prices"
   ]
  },
  {
   "cell_type": "code",
   "execution_count": 11,
   "metadata": {},
   "outputs": [
    {
     "name": "stdout",
     "output_type": "stream",
     "text": [
      "Dropped 200 columns\n",
      "C=195\n",
      "C=195, degree=5, epsilon=0.1, coef0=2, trainRMSLE = 0.09, testRMSLE=0.1191, diff=0.027, dropcolumns=200\n",
      "C=195, degree=5, epsilon=1, coef0=2, trainRMSLE = 0.09, testRMSLE=0.1191, diff=0.027, dropcolumns=200\n",
      "C=195, degree=5, epsilon=10, coef0=2, trainRMSLE = 0.09, testRMSLE=0.11909, diff=0.027, dropcolumns=200\n",
      "C=195, degree=5, epsilon=20, coef0=2, trainRMSLE = 0.09, testRMSLE=0.11909, diff=0.027, dropcolumns=200\n",
      "C=195, degree=5, epsilon=50, coef0=2, trainRMSLE = 0.09, testRMSLE=0.11908, diff=0.027, dropcolumns=200\n",
      "C=195, degree=5, epsilon=75, coef0=2, trainRMSLE = 0.09, testRMSLE=0.11907, diff=0.027, dropcolumns=200\n",
      "C=195, degree=5, epsilon=100, coef0=2, trainRMSLE = 0.09, testRMSLE=0.11905, diff=0.027, dropcolumns=200\n",
      "C=197\n",
      "C=197, degree=5, epsilon=50, coef0=2, trainRMSLE = 0.09, testRMSLE=0.11905, diff=0.027, dropcolumns=200\n",
      "C=197, degree=5, epsilon=75, coef0=2, trainRMSLE = 0.09, testRMSLE=0.11904, diff=0.027, dropcolumns=200\n",
      "C=197, degree=5, epsilon=100, coef0=2, trainRMSLE = 0.09, testRMSLE=0.11902, diff=0.027, dropcolumns=200\n",
      "C=199\n",
      "C=199, degree=5, epsilon=50, coef0=2, trainRMSLE = 0.09, testRMSLE=0.11902, diff=0.027, dropcolumns=200\n",
      "C=199, degree=5, epsilon=75, coef0=2, trainRMSLE = 0.09, testRMSLE=0.11901, diff=0.027, dropcolumns=200\n",
      "C=199, degree=5, epsilon=100, coef0=2, trainRMSLE = 0.09, testRMSLE=0.119, diff=0.027, dropcolumns=200\n",
      "C=201\n",
      "C=201, degree=5, epsilon=50, coef0=2, trainRMSLE = 0.09, testRMSLE=0.11899, diff=0.027, dropcolumns=200\n",
      "C=201, degree=5, epsilon=75, coef0=2, trainRMSLE = 0.09, testRMSLE=0.11898, diff=0.027, dropcolumns=200\n",
      "C=201, degree=5, epsilon=100, coef0=2, trainRMSLE = 0.09, testRMSLE=0.11897, diff=0.027, dropcolumns=200\n",
      "C=203\n",
      "C=203, degree=5, epsilon=20, coef0=2, trainRMSLE = 0.09, testRMSLE=0.11897, diff=0.027, dropcolumns=200\n",
      "C=203, degree=5, epsilon=50, coef0=2, trainRMSLE = 0.09, testRMSLE=0.11896, diff=0.027, dropcolumns=200\n",
      "C=203, degree=5, epsilon=75, coef0=2, trainRMSLE = 0.09, testRMSLE=0.11895, diff=0.027, dropcolumns=200\n",
      "C=203, degree=5, epsilon=100, coef0=2, trainRMSLE = 0.09, testRMSLE=0.11894, diff=0.027, dropcolumns=200\n",
      "Dropped 202 columns\n",
      "C=195\n",
      "C=197\n",
      "C=197, degree=5, epsilon=100, coef0=2, trainRMSLE = 0.09, testRMSLE=0.11894, diff=0.027, dropcolumns=202\n",
      "C=199\n",
      "C=199, degree=5, epsilon=0.1, coef0=2, trainRMSLE = 0.09, testRMSLE=0.11893, diff=0.027, dropcolumns=202\n",
      "C=199, degree=5, epsilon=1, coef0=2, trainRMSLE = 0.09, testRMSLE=0.11893, diff=0.027, dropcolumns=202\n",
      "C=199, degree=5, epsilon=10, coef0=2, trainRMSLE = 0.09, testRMSLE=0.11893, diff=0.027, dropcolumns=202\n",
      "C=199, degree=5, epsilon=20, coef0=2, trainRMSLE = 0.09, testRMSLE=0.11893, diff=0.027, dropcolumns=202\n",
      "C=199, degree=5, epsilon=50, coef0=2, trainRMSLE = 0.09, testRMSLE=0.11892, diff=0.027, dropcolumns=202\n",
      "C=199, degree=5, epsilon=75, coef0=2, trainRMSLE = 0.09, testRMSLE=0.11891, diff=0.027, dropcolumns=202\n",
      "C=199, degree=5, epsilon=100, coef0=2, trainRMSLE = 0.09, testRMSLE=0.11891, diff=0.027, dropcolumns=202\n",
      "C=201\n",
      "C=201, degree=5, epsilon=0.1, coef0=2, trainRMSLE = 0.09, testRMSLE=0.11889, diff=0.027, dropcolumns=202\n",
      "C=201, degree=5, epsilon=1, coef0=2, trainRMSLE = 0.09, testRMSLE=0.11889, diff=0.027, dropcolumns=202\n",
      "C=201, degree=5, epsilon=10, coef0=2, trainRMSLE = 0.09, testRMSLE=0.11889, diff=0.027, dropcolumns=202\n",
      "C=201, degree=5, epsilon=20, coef0=2, trainRMSLE = 0.09, testRMSLE=0.11888, diff=0.027, dropcolumns=202\n",
      "C=201, degree=5, epsilon=50, coef0=2, trainRMSLE = 0.09, testRMSLE=0.11888, diff=0.027, dropcolumns=202\n",
      "C=201, degree=5, epsilon=75, coef0=2, trainRMSLE = 0.09, testRMSLE=0.11888, diff=0.027, dropcolumns=202\n",
      "C=201, degree=5, epsilon=100, coef0=2, trainRMSLE = 0.09, testRMSLE=0.11887, diff=0.027, dropcolumns=202\n",
      "C=203\n",
      "C=203, degree=5, epsilon=0.1, coef0=2, trainRMSLE = 0.09, testRMSLE=0.11885, diff=0.028, dropcolumns=202\n",
      "C=203, degree=5, epsilon=1, coef0=2, trainRMSLE = 0.09, testRMSLE=0.11885, diff=0.028, dropcolumns=202\n",
      "C=203, degree=5, epsilon=10, coef0=2, trainRMSLE = 0.09, testRMSLE=0.11885, diff=0.028, dropcolumns=202\n",
      "C=203, degree=5, epsilon=20, coef0=2, trainRMSLE = 0.09, testRMSLE=0.11885, diff=0.028, dropcolumns=202\n",
      "C=203, degree=5, epsilon=50, coef0=2, trainRMSLE = 0.09, testRMSLE=0.11884, diff=0.028, dropcolumns=202\n",
      "C=203, degree=5, epsilon=75, coef0=2, trainRMSLE = 0.09, testRMSLE=0.11884, diff=0.028, dropcolumns=202\n",
      "C=203, degree=5, epsilon=100, coef0=2, trainRMSLE = 0.09, testRMSLE=0.11884, diff=0.028, dropcolumns=202\n",
      "Dropped 204 columns\n",
      "C=195\n",
      "C=197\n",
      "C=199\n",
      "C=201\n",
      "C=201, degree=5, epsilon=100, coef0=2, trainRMSLE = 0.09, testRMSLE=0.11883, diff=0.028, dropcolumns=204\n",
      "C=203\n",
      "C=203, degree=5, epsilon=10, coef0=2, trainRMSLE = 0.09, testRMSLE=0.11883, diff=0.028, dropcolumns=204\n",
      "C=203, degree=5, epsilon=20, coef0=2, trainRMSLE = 0.09, testRMSLE=0.11883, diff=0.028, dropcolumns=204\n",
      "C=203, degree=5, epsilon=50, coef0=2, trainRMSLE = 0.09, testRMSLE=0.11882, diff=0.028, dropcolumns=204\n",
      "C=203, degree=5, epsilon=75, coef0=2, trainRMSLE = 0.09, testRMSLE=0.11882, diff=0.028, dropcolumns=204\n",
      "C=203, degree=5, epsilon=100, coef0=2, trainRMSLE = 0.09, testRMSLE=0.11881, diff=0.028, dropcolumns=204\n",
      "Dropped 206 columns\n",
      "C=195\n",
      "C=197\n",
      "C=199\n",
      "C=201\n",
      "C=203\n",
      "Dropped 208 columns\n",
      "C=195\n",
      "C=197\n",
      "C=199\n",
      "C=201\n",
      "C=203\n",
      "---Done---\n"
     ]
    }
   ],
   "source": [
    "lastRMSLE = 1\n",
    "lastDiff = 1\n",
    "\n",
    "for columns in range(200, 210, 2):\n",
    "    X_train, X_test, testinputs, inputs = dropcolumns(columns)\n",
    "    for C in range(195, 205, 2):\n",
    "        print(f'C={C}')\n",
    "\n",
    "        for degree in range(5, 7):\n",
    "\n",
    "            for epsilon in [0.1, 1, 10, 20, 50, 75, 100]:\n",
    "\n",
    "\n",
    "                for coef0 in range(2,3):\n",
    "                    clf = SVR(kernel='poly', C=C, gamma='auto', degree=degree, epsilon=epsilon, coef0=coef0)\n",
    "                    clf.fit(X_train, y_train) \n",
    "                    testpredictions = clf.predict(X_test)\n",
    "                    trainpredictions = clf.predict(X_train)\n",
    "\n",
    "\n",
    "                    testpredictions[testpredictions < y_train.min()/2] = y_train.min()\n",
    "                    trainpredictions[trainpredictions < y_train.min()/2] = y_train.min()\n",
    "\n",
    "                    if tolog == 'Yes':\n",
    "                        testpredictions = np.power(10, testpredictions)\n",
    "                        trainpredictions = np.power(10, trainpredictions)\n",
    "                        y_test = np.power(10, y_test)\n",
    "                        y_train = np.power(10, y_train)\n",
    "\n",
    "\n",
    "                    testRMSLE = math.sqrt(mean_squared_log_error(y_test, testpredictions))\n",
    "                    trainRMSLE = math.sqrt(mean_squared_log_error(y_train, trainpredictions))\n",
    "\n",
    "                    if tolog == 'Yes':\n",
    "                        testpredictions = np.log10(testpredictions)\n",
    "                        trainpredictions = np.log10(trainpredictions)\n",
    "                        y_test = np.log10(y_test)\n",
    "                        y_train = np.log10(y_train)\n",
    "\n",
    "\n",
    "                    diff = round(abs(testRMSLE - trainRMSLE), 3)\n",
    "                    lastDiff = .03\n",
    "                    if testRMSLE < lastRMSLE and diff < lastDiff:\n",
    "                        lastDiff = diff\n",
    "                        lastRMSLE = testRMSLE                    \n",
    "                        print(f'C={C}, degree={degree}, epsilon={epsilon}, coef0={coef0}, trainRMSLE = {round(trainRMSLE,2)}, testRMSLE={round(testRMSLE, 5)}, diff={diff}, dropcolumns={columns}')\n",
    "                        Cbest = C\n",
    "                        columnsbest = columns\n",
    "                        degreebest = degree\n",
    "                        epsilonbest = epsilon\n",
    "                        coef0best = coef0\n",
    "\n",
    "print('---Done---')\n",
    "#C=130,degree=7,epsilon=0.1,coef0=3 0.1359030945302552 first submission\n",
    "#C=190,degree=9,epsilon=0.9,coef0=2 0.1359030945302552 second?\n",
    "#C=100,degree=7,epsilon=0.1,coef0=2 0.1359030945302552\n",
    "#C=200, degree=7, epsilon=4, coef0=2, standard scaler, no normalizing output data, 0.1248 Kaggle Score\n",
    "#C=131, degree=6, epsilon=0.1, coef0=2, trainRMSLE = 0.1, testRMSLE=0.11711, diff=0.018, dropcolumns=20, kaggle score 0.12321\n",
    "#C=210, degree=5, epsilon=13, coef0=3, trainRMSLE = 0.1, testRMSLE=0.13396, diff=0.034, no feat eng, no target scaling, dropcolumns = 4,\n",
    "#C=200, degree=6, epsilon=100, coef0=2, trainRMSLE = 0.09, testRMSLE=0.11705, diff=0.022, dropcolumns=4, kaggle = 0.12285"
   ]
  },
  {
   "cell_type": "code",
   "execution_count": 12,
   "metadata": {},
   "outputs": [
    {
     "name": "stdout",
     "output_type": "stream",
     "text": [
      "(292,) (292,)\n"
     ]
    },
    {
     "data": {
      "text/plain": [
       "<matplotlib.collections.PathCollection at 0x1ee9f763be0>"
      ]
     },
     "execution_count": 12,
     "metadata": {},
     "output_type": "execute_result"
    },
    {
     "data": {
      "image/png": "[encoded data removed]",
      "text/plain": [
       "<Figure size 432x288 with 1 Axes>"
      ]
     },
     "metadata": {
      "needs_background": "light"
     },
     "output_type": "display_data"
    }
   ],
   "source": [
    "predicted = clf.predict(X_test)\n",
    "\n",
    "if tolog == 'Yes':\n",
    "    y_train = np.power(10, y_train)\n",
    "\n",
    "# predicted[predicted < y_train.min()/2] = y_train.min()\n",
    "predicted_graph = predicted\n",
    "y_test_graph = predicted\n",
    "print(predicted_graph.shape, y_test_graph.shape)\n",
    "residuals = predicted_graph[0] - y_test_graph\n",
    "xaxis = np.arange(len(residuals))\n",
    "plt.scatter(xaxis, residuals)"
   ]
  },
  {
   "cell_type": "code",
   "execution_count": 13,
   "metadata": {},
   "outputs": [
    {
     "name": "stdout",
     "output_type": "stream",
     "text": [
      "(1166,) (1166,)\n"
     ]
    },
    {
     "data": {
      "text/plain": [
       "<matplotlib.collections.PathCollection at 0x1ee9f7fef98>"
      ]
     },
     "execution_count": 13,
     "metadata": {},
     "output_type": "execute_result"
    },
    {
     "data": {
      "image/png": "[encoded data removed]",
      "text/plain": [
       "<Figure size 432x288 with 1 Axes>"
      ]
     },
     "metadata": {
      "needs_background": "light"
     },
     "output_type": "display_data"
    }
   ],
   "source": [
    "predicted = clf.predict(X_train)\n",
    "if tolog == 'Yes':\n",
    "    y_train = np.power(10, y_train)\n",
    "# predicted[predicted < y_train.min()/2] = y_train.min()\n",
    "predicted_graph = predicted\n",
    "y_train_graph = predicted\n",
    "print(predicted_graph.shape, y_train_graph.shape)\n",
    "residuals = predicted_graph[0] - y_train_graph\n",
    "xaxis = np.arange(len(residuals))\n",
    "plt.scatter(xaxis, residuals)"
   ]
  },
  {
   "cell_type": "code",
   "execution_count": 14,
   "metadata": {},
   "outputs": [
    {
     "name": "stdout",
     "output_type": "stream",
     "text": [
      "name 'error' is not defined\n",
      "Dropped 204 columns\n",
      "C=203, degree=5, epsilon=100, coef0=2\n",
      "[122098.76725277 162046.39831797 189915.98439138 ... 182077.91802988\n",
      " 122814.0323575  230289.00124552]\n"
     ]
    }
   ],
   "source": [
    "\n",
    "try:\n",
    "    error\n",
    "    X_train, X_test, testinputs, inputs = dropcolumns(columnsbest)\n",
    "    clf = SVR(kernel='poly', gamma='auto', C=131, degree=6, epsilon=0.1, coef0=2)      \n",
    "    print('Used entered hyperparameters')\n",
    "    print(clf)\n",
    "except Exception as e:\n",
    "    print(e)\n",
    "    X_train, X_test, testinputs, inputs = dropcolumns(columnsbest)\n",
    "    clf = SVR(kernel='poly', gamma='auto', C=Cbest, degree=degreebest, epsilon=epsilonbest, coef0=coef0best)\n",
    "    print(f'C={Cbest}, degree={degreebest}, epsilon={epsilonbest}, coef0={coef0best}')\n",
    "\n",
    "clf.fit(inputs, prices) \n",
    "predictions = clf.predict(testinputs)\n",
    "\n",
    "if tolog == 'Yes':\n",
    "    predictions = np.power(10, predictions)\n",
    "\n",
    "predictions[predictions < y_train.min()/2] = y_train.min()\n",
    "# predictions = Y_scaler.inverse_transform(predictions)\n",
    "\n",
    "\n",
    "print(predictions)"
   ]
  },
  {
   "cell_type": "code",
   "execution_count": 15,
   "metadata": {},
   "outputs": [
    {
     "data": {
      "text/html": [
       "<div>\n",
       "<style scoped>\n",
       "    .dataframe tbody tr th:only-of-type {\n",
       "        vertical-align: middle;\n",
       "    }\n",
       "\n",
       "    .dataframe tbody tr th {\n",
       "        vertical-align: top;\n",
       "    }\n",
       "\n",
       "    .dataframe thead th {\n",
       "        text-align: right;\n",
       "    }\n",
       "</style>\n",
       "<table border=\"1\" class=\"dataframe\">\n",
       "  <thead>\n",
       "    <tr style=\"text-align: right;\">\n",
       "      <th></th>\n",
       "      <th>Id</th>\n",
       "      <th>SalePrice</th>\n",
       "    </tr>\n",
       "  </thead>\n",
       "  <tbody>\n",
       "    <tr>\n",
       "      <th>0</th>\n",
       "      <td>1461</td>\n",
       "      <td>122098.767253</td>\n",
       "    </tr>\n",
       "    <tr>\n",
       "      <th>1</th>\n",
       "      <td>1462</td>\n",
       "      <td>162046.398318</td>\n",
       "    </tr>\n",
       "    <tr>\n",
       "      <th>2</th>\n",
       "      <td>1463</td>\n",
       "      <td>189915.984391</td>\n",
       "    </tr>\n",
       "    <tr>\n",
       "      <th>3</th>\n",
       "      <td>1464</td>\n",
       "      <td>199037.422895</td>\n",
       "    </tr>\n",
       "    <tr>\n",
       "      <th>4</th>\n",
       "      <td>1465</td>\n",
       "      <td>184200.712113</td>\n",
       "    </tr>\n",
       "  </tbody>\n",
       "</table>\n",
       "</div>"
      ],
      "text/plain": [
       "     Id      SalePrice\n",
       "0  1461  122098.767253\n",
       "1  1462  162046.398318\n",
       "2  1463  189915.984391\n",
       "3  1464  199037.422895\n",
       "4  1465  184200.712113"
      ]
     },
     "execution_count": 15,
     "metadata": {},
     "output_type": "execute_result"
    }
   ],
   "source": [
    "submittest = pd.read_csv('data/testcleaned.csv')\n",
    "submittest = submittest[['Id']]\n",
    "submittest['SalePrice'] = predictions\n",
    "submittest.to_csv('Submissions/SupportVector.csv', index=False)\n",
    "submittest.head()"
   ]
  },
  {
   "cell_type": "code",
   "execution_count": null,
   "metadata": {},
   "outputs": [],
   "source": []
  }
 ],
 "metadata": {
  "kernelspec": {
   "display_name": "Python 3",
   "language": "python",
   "name": "python3"
  },
  "language_info": {
   "codemirror_mode": {
    "name": "ipython",
    "version": 3
   },
   "file_extension": ".py",
   "mimetype": "text/x-python",
   "name": "python",
   "nbconvert_exporter": "python",
   "pygments_lexer": "ipython3",
   "version": "3.7.0"
  }
 },
 "nbformat": 4,
 "nbformat_minor": 2
}
